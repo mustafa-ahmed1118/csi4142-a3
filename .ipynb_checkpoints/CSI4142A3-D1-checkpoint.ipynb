{
 "cells": [
  {
   "cell_type": "markdown",
   "id": "5f4cc83f",
   "metadata": {},
   "source": [
    "# CSI 4142 Assignment 3: Dataset 1: Housing Prices"
   ]
  },
  {
   "cell_type": "markdown",
   "id": "e1f1005c",
   "metadata": {},
   "source": [
    "## Group Info:\n",
    "**Group #:** 120\n",
    "\n",
    "**<u>Group Members</u>**<br>\n",
    "Aydin Yalcinkaya 300238613<br>\n",
    "Mustafa Ahmed 300242013<br>"
   ]
  },
  {
   "cell_type": "markdown",
   "id": "1205f38d",
   "metadata": {},
   "source": [
    "# Imports and Installations\n",
    "Before getting started we must perform a few installations and library imports.\n",
    "\n",
    "Run the following installations:"
   ]
  },
  {
   "cell_type": "code",
   "execution_count": 161,
   "id": "be1f941b",
   "metadata": {},
   "outputs": [],
   "source": [
    "#imports\n",
    "import pandas as pd\n",
    "import os.path\n",
    "from datetime import datetime\n",
    "import re\n",
    "import numpy as np\n",
    "from IPython.display import display\n",
    "from rapidfuzz import fuzz\n",
    "from rapidfuzz import process\n",
    "from sklearn.neighbors import LocalOutlierFactor\n",
    "\n",
    "import matplotlib.pyplot as plt\n",
    "import seaborn as sns"
   ]
  },
  {
   "cell_type": "markdown",
   "id": "418c0177",
   "metadata": {},
   "source": [
    "## Report Description\n",
    "\n",
    "The purpose of this report is to practice a predictive analysis study. The primary methodology is using Lineaer Regression."
   ]
  },
  {
   "cell_type": "markdown",
   "id": "f6b8ccd0",
   "metadata": {},
   "source": [
    "## Housing Prices Regression Dataset\n",
    "Author: Den Kuznetz\n",
    "\n",
    "Link to the dataset: https://www.kaggle.com/datasets/denkuznetz/housing-prices-regression\n",
    "\n",
    "Dataset use-case: dataset prepared for creating a predictive model.\n",
    "\n",
    "### How to download:\n",
    "Run the following command in the same directory as the notebook:"
   ]
  },
  {
   "cell_type": "code",
   "execution_count": 162,
   "id": "9edac74b",
   "metadata": {},
   "outputs": [
    {
     "name": "stdout",
     "output_type": "stream",
     "text": [
      "rm: housing-prices-regression.zip: No such file or directory\n",
      "  % Total    % Received % Xferd  Average Speed   Time    Time     Time  Current\n",
      "                                 Dload  Upload   Total   Spent    Left  Speed\n",
      "  0     0    0     0    0     0      0      0 --:--:-- --:--:-- --:--:--     0\n",
      "100 24182  100 24182    0     0  62664      0 --:--:-- --:--:-- --:--:--  149k\n",
      "Archive:  housing-prices-regression.zip\n",
      "  inflating: real_estate_dataset.csv  \n"
     ]
    }
   ],
   "source": [
    "! rm housing-prices-regression.zip real_estate_dataset.csv\n",
    "! curl -L -o housing-prices-regression.zip\\\n",
    "  https://www.kaggle.com/api/v1/datasets/download/denkuznetz/housing-prices-regression\\\n",
    "    && unzip housing-prices-regression.zip\n",
    "! rm housing-prices-regression.zip"
   ]
  },
  {
   "cell_type": "markdown",
   "id": "c63aa0dc",
   "metadata": {},
   "source": [
    "### Initial data output command:"
   ]
  },
  {
   "cell_type": "code",
   "execution_count": 163,
   "id": "873ac040",
   "metadata": {},
   "outputs": [
    {
     "name": "stdout",
     "output_type": "stream",
     "text": [
      "<class 'pandas.core.frame.DataFrame'>\n",
      "RangeIndex: 500 entries, 0 to 499\n",
      "Data columns (total 12 columns):\n",
      " #   Column              Non-Null Count  Dtype  \n",
      "---  ------              --------------  -----  \n",
      " 0   ID                  500 non-null    int64  \n",
      " 1   Square_Feet         500 non-null    float64\n",
      " 2   Num_Bedrooms        500 non-null    int64  \n",
      " 3   Num_Bathrooms       500 non-null    int64  \n",
      " 4   Num_Floors          500 non-null    int64  \n",
      " 5   Year_Built          500 non-null    int64  \n",
      " 6   Has_Garden          500 non-null    int64  \n",
      " 7   Has_Pool            500 non-null    int64  \n",
      " 8   Garage_Size         500 non-null    int64  \n",
      " 9   Location_Score      500 non-null    float64\n",
      " 10  Distance_to_Center  500 non-null    float64\n",
      " 11  Price               500 non-null    float64\n",
      "dtypes: float64(4), int64(8)\n",
      "memory usage: 47.0 KB\n",
      "None\n"
     ]
    }
   ],
   "source": [
    "if not os.path.exists('real_estate_dataset.csv'):\n",
    "    raise Exception('Please download and extract the dataset with the command above.')\n",
    "house_df = pd.read_csv('real_estate_dataset.csv')\n",
    "print(house_df.info())"
   ]
  },
  {
   "cell_type": "code",
   "execution_count": 164,
   "id": "9874a0fa",
   "metadata": {},
   "outputs": [
    {
     "data": {
      "text/plain": [
       "1957.604"
      ]
     },
     "execution_count": 164,
     "metadata": {},
     "output_type": "execute_result"
    }
   ],
   "source": [
    "house_df[\"Year_Built\"].mean()"
   ]
  },
  {
   "cell_type": "markdown",
   "id": "0753c84f",
   "metadata": {},
   "source": [
    "# 1) Data Cleaning:\n",
    "For our data cleaning we will perform the following cleaning checks followed by the relevant imputation/cleaning methods:\n",
    "\n",
    "- Consistency\n",
    "- Range\n",
    "- Uniqueness\n",
    "- Presence\n",
    "- Exact Duplicates\n",
    "- Near Duplicates\n",
    "\n",
    "Due to the nature of this dataset being primarily numerical data and very minimal categorical data We will skip over the following cleaning steps as they pertain to more to categorical data: \n",
    "\n",
    "- Format\n",
    "- Length\n",
    "- Look-up\n",
    "\n",
    "We will skip over Data Type check and cleaning as well since all the columns are strictly enforced as either int64 or float64 type which cannot be mixed up with any other data type:\n",
    "\n",
    "- Data Type\n"
   ]
  },
  {
   "cell_type": "markdown",
   "id": "cabf3cf0",
   "metadata": {},
   "source": [
    "## Consistency Check\n",
    "\n",
    "We will check the following consistencies: \n",
    "\n",
    "- Garage_Size < Square_Feet\n",
    "    - Pre-requisite step: convert Garage_Size from sqm to sqft"
   ]
  },
  {
   "cell_type": "code",
   "execution_count": 165,
   "id": "f7caf0bd",
   "metadata": {},
   "outputs": [],
   "source": [
    "# Step 1: Convert Garage_Size from sqm to sqft\n",
    "house_df[\"Garage_Size\"] = house_df[\"Garage_Size\"] * 10.7639"
   ]
  },
  {
   "cell_type": "code",
   "execution_count": 166,
   "id": "9789ed39",
   "metadata": {},
   "outputs": [
    {
     "data": {
      "text/html": [
       "<div>\n",
       "<style scoped>\n",
       "    .dataframe tbody tr th:only-of-type {\n",
       "        vertical-align: middle;\n",
       "    }\n",
       "\n",
       "    .dataframe tbody tr th {\n",
       "        vertical-align: top;\n",
       "    }\n",
       "\n",
       "    .dataframe thead th {\n",
       "        text-align: right;\n",
       "    }\n",
       "</style>\n",
       "<table border=\"1\" class=\"dataframe\">\n",
       "  <thead>\n",
       "    <tr style=\"text-align: right;\">\n",
       "      <th></th>\n",
       "      <th>ID</th>\n",
       "      <th>Square_Feet</th>\n",
       "      <th>Num_Bedrooms</th>\n",
       "      <th>Num_Bathrooms</th>\n",
       "      <th>Num_Floors</th>\n",
       "      <th>Year_Built</th>\n",
       "      <th>Has_Garden</th>\n",
       "      <th>Has_Pool</th>\n",
       "      <th>Garage_Size</th>\n",
       "      <th>Location_Score</th>\n",
       "      <th>Distance_to_Center</th>\n",
       "      <th>Price</th>\n",
       "    </tr>\n",
       "  </thead>\n",
       "  <tbody>\n",
       "    <tr>\n",
       "      <th>0</th>\n",
       "      <td>1</td>\n",
       "      <td>143.635030</td>\n",
       "      <td>1</td>\n",
       "      <td>3</td>\n",
       "      <td>3</td>\n",
       "      <td>1967</td>\n",
       "      <td>1</td>\n",
       "      <td>1</td>\n",
       "      <td>516.6672</td>\n",
       "      <td>8.297631</td>\n",
       "      <td>5.935734</td>\n",
       "      <td>602134.816747</td>\n",
       "    </tr>\n",
       "    <tr>\n",
       "      <th>1</th>\n",
       "      <td>2</td>\n",
       "      <td>287.678577</td>\n",
       "      <td>1</td>\n",
       "      <td>2</td>\n",
       "      <td>1</td>\n",
       "      <td>1949</td>\n",
       "      <td>0</td>\n",
       "      <td>1</td>\n",
       "      <td>398.2643</td>\n",
       "      <td>6.061466</td>\n",
       "      <td>10.827392</td>\n",
       "      <td>591425.135386</td>\n",
       "    </tr>\n",
       "    <tr>\n",
       "      <th>4</th>\n",
       "      <td>5</td>\n",
       "      <td>89.004660</td>\n",
       "      <td>4</td>\n",
       "      <td>3</td>\n",
       "      <td>3</td>\n",
       "      <td>1999</td>\n",
       "      <td>1</td>\n",
       "      <td>0</td>\n",
       "      <td>365.9726</td>\n",
       "      <td>1.523278</td>\n",
       "      <td>14.648277</td>\n",
       "      <td>619879.142523</td>\n",
       "    </tr>\n",
       "    <tr>\n",
       "      <th>5</th>\n",
       "      <td>6</td>\n",
       "      <td>88.998630</td>\n",
       "      <td>5</td>\n",
       "      <td>3</td>\n",
       "      <td>2</td>\n",
       "      <td>1959</td>\n",
       "      <td>1</td>\n",
       "      <td>1</td>\n",
       "      <td>387.5004</td>\n",
       "      <td>8.994552</td>\n",
       "      <td>17.633250</td>\n",
       "      <td>670386.804433</td>\n",
       "    </tr>\n",
       "    <tr>\n",
       "      <th>6</th>\n",
       "      <td>7</td>\n",
       "      <td>64.520903</td>\n",
       "      <td>4</td>\n",
       "      <td>3</td>\n",
       "      <td>1</td>\n",
       "      <td>1938</td>\n",
       "      <td>0</td>\n",
       "      <td>1</td>\n",
       "      <td>344.4448</td>\n",
       "      <td>7.101354</td>\n",
       "      <td>2.429908</td>\n",
       "      <td>523827.125601</td>\n",
       "    </tr>\n",
       "    <tr>\n",
       "      <th>...</th>\n",
       "      <td>...</td>\n",
       "      <td>...</td>\n",
       "      <td>...</td>\n",
       "      <td>...</td>\n",
       "      <td>...</td>\n",
       "      <td>...</td>\n",
       "      <td>...</td>\n",
       "      <td>...</td>\n",
       "      <td>...</td>\n",
       "      <td>...</td>\n",
       "      <td>...</td>\n",
       "      <td>...</td>\n",
       "    </tr>\n",
       "    <tr>\n",
       "      <th>494</th>\n",
       "      <td>495</td>\n",
       "      <td>165.924601</td>\n",
       "      <td>4</td>\n",
       "      <td>3</td>\n",
       "      <td>1</td>\n",
       "      <td>1935</td>\n",
       "      <td>1</td>\n",
       "      <td>1</td>\n",
       "      <td>236.8058</td>\n",
       "      <td>4.893764</td>\n",
       "      <td>15.889616</td>\n",
       "      <td>622815.455423</td>\n",
       "    </tr>\n",
       "    <tr>\n",
       "      <th>495</th>\n",
       "      <td>496</td>\n",
       "      <td>138.338057</td>\n",
       "      <td>2</td>\n",
       "      <td>2</td>\n",
       "      <td>2</td>\n",
       "      <td>1967</td>\n",
       "      <td>1</td>\n",
       "      <td>0</td>\n",
       "      <td>172.2224</td>\n",
       "      <td>4.296086</td>\n",
       "      <td>5.562583</td>\n",
       "      <td>488496.350722</td>\n",
       "    </tr>\n",
       "    <tr>\n",
       "      <th>496</th>\n",
       "      <td>497</td>\n",
       "      <td>195.914028</td>\n",
       "      <td>2</td>\n",
       "      <td>3</td>\n",
       "      <td>1</td>\n",
       "      <td>1977</td>\n",
       "      <td>0</td>\n",
       "      <td>1</td>\n",
       "      <td>484.3755</td>\n",
       "      <td>7.406261</td>\n",
       "      <td>2.845105</td>\n",
       "      <td>657736.921717</td>\n",
       "    </tr>\n",
       "    <tr>\n",
       "      <th>497</th>\n",
       "      <td>498</td>\n",
       "      <td>69.433659</td>\n",
       "      <td>1</td>\n",
       "      <td>1</td>\n",
       "      <td>2</td>\n",
       "      <td>2004</td>\n",
       "      <td>0</td>\n",
       "      <td>0</td>\n",
       "      <td>193.7502</td>\n",
       "      <td>8.629724</td>\n",
       "      <td>6.263264</td>\n",
       "      <td>405324.950201</td>\n",
       "    </tr>\n",
       "    <tr>\n",
       "      <th>498</th>\n",
       "      <td>499</td>\n",
       "      <td>293.598702</td>\n",
       "      <td>5</td>\n",
       "      <td>1</td>\n",
       "      <td>3</td>\n",
       "      <td>1940</td>\n",
       "      <td>1</td>\n",
       "      <td>0</td>\n",
       "      <td>441.3199</td>\n",
       "      <td>5.318891</td>\n",
       "      <td>16.990684</td>\n",
       "      <td>773035.968028</td>\n",
       "    </tr>\n",
       "  </tbody>\n",
       "</table>\n",
       "<p>409 rows × 12 columns</p>\n",
       "</div>"
      ],
      "text/plain": [
       "      ID  Square_Feet  Num_Bedrooms  Num_Bathrooms  Num_Floors  Year_Built  \\\n",
       "0      1   143.635030             1              3           3        1967   \n",
       "1      2   287.678577             1              2           1        1949   \n",
       "4      5    89.004660             4              3           3        1999   \n",
       "5      6    88.998630             5              3           2        1959   \n",
       "6      7    64.520903             4              3           1        1938   \n",
       "..   ...          ...           ...            ...         ...         ...   \n",
       "494  495   165.924601             4              3           1        1935   \n",
       "495  496   138.338057             2              2           2        1967   \n",
       "496  497   195.914028             2              3           1        1977   \n",
       "497  498    69.433659             1              1           2        2004   \n",
       "498  499   293.598702             5              1           3        1940   \n",
       "\n",
       "     Has_Garden  Has_Pool  Garage_Size  Location_Score  Distance_to_Center  \\\n",
       "0             1         1     516.6672        8.297631            5.935734   \n",
       "1             0         1     398.2643        6.061466           10.827392   \n",
       "4             1         0     365.9726        1.523278           14.648277   \n",
       "5             1         1     387.5004        8.994552           17.633250   \n",
       "6             0         1     344.4448        7.101354            2.429908   \n",
       "..          ...       ...          ...             ...                 ...   \n",
       "494           1         1     236.8058        4.893764           15.889616   \n",
       "495           1         0     172.2224        4.296086            5.562583   \n",
       "496           0         1     484.3755        7.406261            2.845105   \n",
       "497           0         0     193.7502        8.629724            6.263264   \n",
       "498           1         0     441.3199        5.318891           16.990684   \n",
       "\n",
       "             Price  \n",
       "0    602134.816747  \n",
       "1    591425.135386  \n",
       "4    619879.142523  \n",
       "5    670386.804433  \n",
       "6    523827.125601  \n",
       "..             ...  \n",
       "494  622815.455423  \n",
       "495  488496.350722  \n",
       "496  657736.921717  \n",
       "497  405324.950201  \n",
       "498  773035.968028  \n",
       "\n",
       "[409 rows x 12 columns]"
      ]
     },
     "execution_count": 166,
     "metadata": {},
     "output_type": "execute_result"
    }
   ],
   "source": [
    "# Step 2: Consistency check: Garage_Size in sqft should be less than Square_Feet\n",
    "invalid_garages = house_df[house_df[\"Garage_Size\"] >= house_df[\"Square_Feet\"]]\n",
    "\n",
    "# Step 3: Display the rows that violate the condition\n",
    "invalid_garages"
   ]
  },
  {
   "cell_type": "markdown",
   "id": "e90438a5",
   "metadata": {},
   "source": [
    "### Inconsistencies found:\n",
    "409 rows were found to have a larger garage than home. This seemed like a clear mixup as this makes up for approximately 82% of the dataset. Rows where the garage size is greater than the square feet of the home, these values will be swapped."
   ]
  },
  {
   "cell_type": "code",
   "execution_count": 167,
   "id": "0db77aac",
   "metadata": {},
   "outputs": [],
   "source": [
    "# Identify where Garage_Size is greater than Square_Feet\n",
    "swap_condition = house_df[\"Garage_Size\"] > house_df[\"Square_Feet\"]\n",
    "\n",
    "# Perform the swap PROPERLY\n",
    "house_df.loc[swap_condition, [\"Square_Feet\", \"Garage_Size\"]] = (house_df.loc[swap_condition, [\"Garage_Size\", \"Square_Feet\"]].values)"
   ]
  },
  {
   "cell_type": "markdown",
   "id": "86fe7a68",
   "metadata": {},
   "source": [
    "Verify the swap was completed correctly. There should be no rows such that Square_Feet < Garage_Size.\n",
    "\n",
    "Perform a check:"
   ]
  },
  {
   "cell_type": "code",
   "execution_count": 168,
   "id": "d5e468ad",
   "metadata": {},
   "outputs": [
    {
     "name": "stdout",
     "output_type": "stream",
     "text": [
      "There are 0 rows such that Square_Feet < Garage_Size\n",
      "View some samples:\n"
     ]
    },
    {
     "data": {
      "text/html": [
       "<div>\n",
       "<style scoped>\n",
       "    .dataframe tbody tr th:only-of-type {\n",
       "        vertical-align: middle;\n",
       "    }\n",
       "\n",
       "    .dataframe tbody tr th {\n",
       "        vertical-align: top;\n",
       "    }\n",
       "\n",
       "    .dataframe thead th {\n",
       "        text-align: right;\n",
       "    }\n",
       "</style>\n",
       "<table border=\"1\" class=\"dataframe\">\n",
       "  <thead>\n",
       "    <tr style=\"text-align: right;\">\n",
       "      <th></th>\n",
       "      <th>ID</th>\n",
       "      <th>Square_Feet</th>\n",
       "      <th>Num_Bedrooms</th>\n",
       "      <th>Num_Bathrooms</th>\n",
       "      <th>Num_Floors</th>\n",
       "      <th>Year_Built</th>\n",
       "      <th>Has_Garden</th>\n",
       "      <th>Has_Pool</th>\n",
       "      <th>Garage_Size</th>\n",
       "      <th>Location_Score</th>\n",
       "      <th>Distance_to_Center</th>\n",
       "      <th>Price</th>\n",
       "    </tr>\n",
       "  </thead>\n",
       "  <tbody>\n",
       "  </tbody>\n",
       "</table>\n",
       "</div>"
      ],
      "text/plain": [
       "Empty DataFrame\n",
       "Columns: [ID, Square_Feet, Num_Bedrooms, Num_Bathrooms, Num_Floors, Year_Built, Has_Garden, Has_Pool, Garage_Size, Location_Score, Distance_to_Center, Price]\n",
       "Index: []"
      ]
     },
     "execution_count": 168,
     "metadata": {},
     "output_type": "execute_result"
    }
   ],
   "source": [
    "# Identify where Garage_Size is greater than Square_Feet\n",
    "swap_condition =  house_df[\"Square_Feet\"] < house_df[\"Garage_Size\"]\n",
    "\n",
    "# Display rows where the condition is True (Square_Feet < Garage_Size)\n",
    "inconsistent_rows = house_df[swap_condition]\n",
    "\n",
    "# Print the problematic rows\n",
    "num_inconsistent = len(inconsistent_rows)\n",
    "\n",
    "print(f\"There are {num_inconsistent} rows such that Square_Feet < Garage_Size\")\n",
    "print(\"View some samples:\")\n",
    "inconsistent_rows"
   ]
  },
  {
   "cell_type": "markdown",
   "id": "7f395141",
   "metadata": {},
   "source": [
    "## Range:\n",
    "\n",
    "Given that majority of the values are int64 or float64, a range check is valuable.\n",
    "\n",
    "### Perform the range check:"
   ]
  },
  {
   "cell_type": "code",
   "execution_count": 169,
   "id": "6fcc993c",
   "metadata": {},
   "outputs": [
    {
     "data": {
      "text/html": [
       "<div>\n",
       "<style scoped>\n",
       "    .dataframe tbody tr th:only-of-type {\n",
       "        vertical-align: middle;\n",
       "    }\n",
       "\n",
       "    .dataframe tbody tr th {\n",
       "        vertical-align: top;\n",
       "    }\n",
       "\n",
       "    .dataframe thead th {\n",
       "        text-align: right;\n",
       "    }\n",
       "</style>\n",
       "<table border=\"1\" class=\"dataframe\">\n",
       "  <thead>\n",
       "    <tr style=\"text-align: right;\">\n",
       "      <th></th>\n",
       "      <th>ID</th>\n",
       "      <th>Square_Feet</th>\n",
       "      <th>Num_Bedrooms</th>\n",
       "      <th>Num_Bathrooms</th>\n",
       "      <th>Num_Floors</th>\n",
       "      <th>Year_Built</th>\n",
       "      <th>Has_Garden</th>\n",
       "      <th>Has_Pool</th>\n",
       "      <th>Garage_Size</th>\n",
       "      <th>Location_Score</th>\n",
       "      <th>Distance_to_Center</th>\n",
       "      <th>Price</th>\n",
       "    </tr>\n",
       "  </thead>\n",
       "  <tbody>\n",
       "  </tbody>\n",
       "</table>\n",
       "</div>"
      ],
      "text/plain": [
       "Empty DataFrame\n",
       "Columns: [ID, Square_Feet, Num_Bedrooms, Num_Bathrooms, Num_Floors, Year_Built, Has_Garden, Has_Pool, Garage_Size, Location_Score, Distance_to_Center, Price]\n",
       "Index: []"
      ]
     },
     "execution_count": 169,
     "metadata": {},
     "output_type": "execute_result"
    }
   ],
   "source": [
    "#Range Filters\n",
    "min_sqft = 46.0\n",
    "min_bed = 1\n",
    "min_bath = 1\n",
    "min_floors = 1\n",
    "year_built_range = range(1600, 2025)\n",
    "min_garage_size = 16.7225\n",
    "location_score_range = (0,10)\n",
    "min_dist_ctr = 0\n",
    "min_price = 0\n",
    "\n",
    "# Create a mask for valid rows\n",
    "valid_mask = (\n",
    "    (house_df[\"Square_Feet\"] >= min_sqft) &\n",
    "    (house_df[\"Num_Bedrooms\"] >= min_bed) &\n",
    "    (house_df[\"Num_Bathrooms\"] >= min_bath) &\n",
    "    (house_df[\"Num_Floors\"] >= min_floors) &\n",
    "    (house_df[\"Year_Built\"].isin(year_built_range)) &\n",
    "    (house_df[\"Garage_Size\"] >= min_garage_size) &\n",
    "    (house_df[\"Location_Score\"].between(*location_score_range)) &\n",
    "    (house_df[\"Distance_to_Center\"] >= min_dist_ctr) &\n",
    "    (house_df[\"Price\"] >= min_price)\n",
    ")\n",
    "\n",
    "# Get the problematic rows\n",
    "problematic_rows = house_df[~valid_mask]  # Invert mask to get failing rows\n",
    "\n",
    "# Display the problematic rows (There should be none)\n",
    "problematic_rows.head()"
   ]
  },
  {
   "cell_type": "code",
   "execution_count": 170,
   "id": "60ca0911",
   "metadata": {},
   "outputs": [
    {
     "name": "stdout",
     "output_type": "stream",
     "text": [
      "There are 0 rows with invalid ranges\n",
      "Invalid garage values: []\n"
     ]
    }
   ],
   "source": [
    "num_invalid_rows_range = len(problematic_rows[\"Garage_Size\"])\n",
    "invalid_garage_vals = problematic_rows[\"Garage_Size\"].unique()\n",
    "\n",
    "print(f\"There are {num_invalid_rows_range} rows with invalid ranges\")\n",
    "print(f\"Invalid garage values: {invalid_garage_vals}\")"
   ]
  },
  {
   "cell_type": "markdown",
   "id": "520b4e8d",
   "metadata": {},
   "source": [
    "#### Invalid Garage Sizes\n",
    "\n",
    "By logic and my research, the minimum garage size is 10x8 feet or 16.7725 Square feet. We will imputate the minumum garage size to such records"
   ]
  },
  {
   "cell_type": "code",
   "execution_count": 171,
   "id": "28fe9460",
   "metadata": {},
   "outputs": [],
   "source": [
    "#Convert the Garage_Size column to a float64 type\n",
    "house_df[\"Garage_Size\"] = house_df[\"Garage_Size\"].astype(float)"
   ]
  },
  {
   "cell_type": "code",
   "execution_count": 172,
   "id": "3b69f94d",
   "metadata": {},
   "outputs": [],
   "source": [
    "# Impute the invalid garage sizes with the minimum size\n",
    "house_df[\"Garage_Size\"] = house_df[\"Garage_Size\"].apply(lambda x: max(x, 16.7225))"
   ]
  },
  {
   "cell_type": "markdown",
   "id": "9a4d49e4",
   "metadata": {},
   "source": [
    "#### Successful Garage_Size Imputation\n",
    "There should be no more range errors upon the Garage_Size imputation"
   ]
  },
  {
   "cell_type": "markdown",
   "id": "5cc9fc4a",
   "metadata": {},
   "source": [
    "## Uniqueness Check:\n",
    "Only the ID Column needs to have unique values so we will verify that by ensuring the number of unique id values is the same as the length of the entire dataset. This is becsause there is a 1 to 1 relationship between the ID and each row."
   ]
  },
  {
   "cell_type": "code",
   "execution_count": 173,
   "id": "a5257966",
   "metadata": {},
   "outputs": [
    {
     "data": {
      "text/plain": [
       "True"
      ]
     },
     "execution_count": 173,
     "metadata": {},
     "output_type": "execute_result"
    }
   ],
   "source": [
    "len(house_df['ID'].unique()) == len(house_df)"
   ]
  },
  {
   "cell_type": "markdown",
   "id": "12c75a42",
   "metadata": {},
   "source": [
    "## Presence Check:\n",
    "We will check for null values in each column. Upon performing the check there are in fact none."
   ]
  },
  {
   "cell_type": "code",
   "execution_count": 174,
   "id": "6ef03d35",
   "metadata": {},
   "outputs": [
    {
     "name": "stdout",
     "output_type": "stream",
     "text": [
      "ID                    0\n",
      "Square_Feet           0\n",
      "Num_Bedrooms          0\n",
      "Num_Bathrooms         0\n",
      "Num_Floors            0\n",
      "Year_Built            0\n",
      "Has_Garden            0\n",
      "Has_Pool              0\n",
      "Garage_Size           0\n",
      "Location_Score        0\n",
      "Distance_to_Center    0\n",
      "Price                 0\n",
      "dtype: int64\n"
     ]
    }
   ],
   "source": [
    "print(house_df.isna().sum())"
   ]
  },
  {
   "cell_type": "markdown",
   "id": "9b549845",
   "metadata": {},
   "source": [
    "No Null values"
   ]
  },
  {
   "cell_type": "markdown",
   "id": "e9aa517c",
   "metadata": {},
   "source": [
    "## Duplicate Check"
   ]
  },
  {
   "cell_type": "code",
   "execution_count": 175,
   "id": "b947d532",
   "metadata": {},
   "outputs": [
    {
     "data": {
      "text/html": [
       "<div>\n",
       "<style scoped>\n",
       "    .dataframe tbody tr th:only-of-type {\n",
       "        vertical-align: middle;\n",
       "    }\n",
       "\n",
       "    .dataframe tbody tr th {\n",
       "        vertical-align: top;\n",
       "    }\n",
       "\n",
       "    .dataframe thead th {\n",
       "        text-align: right;\n",
       "    }\n",
       "</style>\n",
       "<table border=\"1\" class=\"dataframe\">\n",
       "  <thead>\n",
       "    <tr style=\"text-align: right;\">\n",
       "      <th></th>\n",
       "      <th>ID</th>\n",
       "      <th>Square_Feet</th>\n",
       "      <th>Num_Bedrooms</th>\n",
       "      <th>Num_Bathrooms</th>\n",
       "      <th>Num_Floors</th>\n",
       "      <th>Year_Built</th>\n",
       "      <th>Has_Garden</th>\n",
       "      <th>Has_Pool</th>\n",
       "      <th>Garage_Size</th>\n",
       "      <th>Location_Score</th>\n",
       "      <th>Distance_to_Center</th>\n",
       "      <th>Price</th>\n",
       "    </tr>\n",
       "  </thead>\n",
       "  <tbody>\n",
       "  </tbody>\n",
       "</table>\n",
       "</div>"
      ],
      "text/plain": [
       "Empty DataFrame\n",
       "Columns: [ID, Square_Feet, Num_Bedrooms, Num_Bathrooms, Num_Floors, Year_Built, Has_Garden, Has_Pool, Garage_Size, Location_Score, Distance_to_Center, Price]\n",
       "Index: []"
      ]
     },
     "execution_count": 175,
     "metadata": {},
     "output_type": "execute_result"
    }
   ],
   "source": [
    "duplicates = house_df[house_df.duplicated()]\n",
    "\n",
    "duplicates"
   ]
  },
  {
   "cell_type": "markdown",
   "id": "b60313ff",
   "metadata": {},
   "source": [
    "No duplicates found"
   ]
  },
  {
   "cell_type": "markdown",
   "id": "db3e9ac5",
   "metadata": {},
   "source": [
    "## Near Duplicate Check\n"
   ]
  },
  {
   "cell_type": "code",
   "execution_count": 176,
   "id": "7b47059c",
   "metadata": {},
   "outputs": [
    {
     "data": {
      "text/html": [
       "<div>\n",
       "<style scoped>\n",
       "    .dataframe tbody tr th:only-of-type {\n",
       "        vertical-align: middle;\n",
       "    }\n",
       "\n",
       "    .dataframe tbody tr th {\n",
       "        vertical-align: top;\n",
       "    }\n",
       "\n",
       "    .dataframe thead th {\n",
       "        text-align: right;\n",
       "    }\n",
       "</style>\n",
       "<table border=\"1\" class=\"dataframe\">\n",
       "  <thead>\n",
       "    <tr style=\"text-align: right;\">\n",
       "      <th></th>\n",
       "      <th>ID</th>\n",
       "      <th>Square_Feet</th>\n",
       "      <th>Num_Bedrooms</th>\n",
       "      <th>Num_Bathrooms</th>\n",
       "      <th>Num_Floors</th>\n",
       "      <th>Year_Built</th>\n",
       "      <th>Has_Garden</th>\n",
       "      <th>Has_Pool</th>\n",
       "      <th>Garage_Size</th>\n",
       "      <th>Location_Score</th>\n",
       "      <th>Distance_to_Center</th>\n",
       "      <th>Price</th>\n",
       "    </tr>\n",
       "  </thead>\n",
       "  <tbody>\n",
       "  </tbody>\n",
       "</table>\n",
       "</div>"
      ],
      "text/plain": [
       "Empty DataFrame\n",
       "Columns: [ID, Square_Feet, Num_Bedrooms, Num_Bathrooms, Num_Floors, Year_Built, Has_Garden, Has_Pool, Garage_Size, Location_Score, Distance_to_Center, Price]\n",
       "Index: []"
      ]
     },
     "execution_count": 176,
     "metadata": {},
     "output_type": "execute_result"
    }
   ],
   "source": [
    "house_df_rounded = house_df.copy()\n",
    "\n",
    "# Round numerical columns to a specific number of decimal places\n",
    "numeric_columns = ['Square_Feet', 'Num_Bedrooms', 'Num_Bathrooms', 'Num_Floors', 'Year_Built', 'Garage_Size', 'Location_Score', 'Distance_to_Center', 'Price']\n",
    "house_df_rounded[numeric_columns] = house_df[numeric_columns].round(2)\n",
    "\n",
    "# Now check for duplicates in the rounded dataset\n",
    "near_duplicates = house_df_rounded[house_df_rounded.duplicated()]\n",
    "near_duplicates"
   ]
  },
  {
   "cell_type": "markdown",
   "id": "72b6c438",
   "metadata": {},
   "source": [
    "No near duplicates identified"
   ]
  },
  {
   "cell_type": "markdown",
   "id": "46b0ca68",
   "metadata": {},
   "source": [
    "# 2) Categorical Feature Encoding\n",
    "\n",
    "There is already existing one-hot encoding in the Has_Garden and Has_Pool columns. All other columns are numerical therfore there can be no further categorical feature encoding."
   ]
  },
  {
   "cell_type": "markdown",
   "id": "60ad6363",
   "metadata": {},
   "source": [
    "# 3) EDA and Outlier Detection\n",
    "\n",
    "TODO Re organize to demonstrate the EDA into LOF"
   ]
  },
  {
   "cell_type": "code",
   "execution_count": 179,
   "id": "0f428989",
   "metadata": {},
   "outputs": [],
   "source": [
    "#Collect all the columns, excluding those containing 'LOF_Score'\n",
    "main_columns = [col for col in house_df.columns if 'LOF_Score' not in col and 'Outl' not in col]"
   ]
  },
  {
   "cell_type": "markdown",
   "id": "f7f61ece",
   "metadata": {},
   "source": [
    "### Visualize the Outliers:"
   ]
  },
  {
   "cell_type": "code",
   "execution_count": 184,
   "id": "5d072d16",
   "metadata": {},
   "outputs": [
    {
     "name": "stderr",
     "output_type": "stream",
     "text": [
      "/Users/MustafaAhmed/anaconda3/lib/python3.10/site-packages/sklearn/neighbors/_lof.py:322: UserWarning: Duplicate values are leading to incorrect results. Increase the number of neighbors for more accurate results.\n",
      "  warnings.warn(\n",
      "/Users/MustafaAhmed/anaconda3/lib/python3.10/site-packages/sklearn/neighbors/_lof.py:322: UserWarning: Duplicate values are leading to incorrect results. Increase the number of neighbors for more accurate results.\n",
      "  warnings.warn(\n",
      "/Users/MustafaAhmed/anaconda3/lib/python3.10/site-packages/sklearn/neighbors/_lof.py:322: UserWarning: Duplicate values are leading to incorrect results. Increase the number of neighbors for more accurate results.\n",
      "  warnings.warn(\n",
      "/Users/MustafaAhmed/anaconda3/lib/python3.10/site-packages/sklearn/neighbors/_lof.py:322: UserWarning: Duplicate values are leading to incorrect results. Increase the number of neighbors for more accurate results.\n",
      "  warnings.warn(\n"
     ]
    }
   ],
   "source": [
    "# Identify numerical columns (exclude 'ID' since it's just an identifier)\n",
    "num_cols = house_df.select_dtypes(include=['int64', 'float64']).columns\n",
    "num_cols = num_cols.drop(\"ID\")  # Drop ID column\n",
    "\n",
    "# Set LOF parameters\n",
    "n_neighbors = 20\n",
    "contamination = 0.05\n",
    "\n",
    "# Run LOF for each numerical column\n",
    "for col in num_cols:\n",
    "    lof = LocalOutlierFactor(n_neighbors=n_neighbors, contamination=contamination)\n",
    "    outliers = lof.fit_predict(house_df[[col]])\n",
    "    \n",
    "    # Store results in a new column for each feature\n",
    "    house_df[f\"LOF_Score_{col}\"] = lof.negative_outlier_factor_\n",
    "    house_df[f\"Is_Outlier_{col}\"] = outliers == -1\n",
    "\n",
    "# Combine all outlier flags (flagged in ANY column)\n",
    "house_df[\"Is_Outlier_Any\"] = house_df[[f\"Is_Outlier_{col}\" for col in num_cols]].any(axis=1)"
   ]
  },
  {
   "cell_type": "markdown",
   "id": "17451ce4",
   "metadata": {},
   "source": [
    "### Identify the outliers:"
   ]
  },
  {
   "cell_type": "code",
   "execution_count": 180,
   "id": "a2d6ad11",
   "metadata": {},
   "outputs": [
    {
     "ename": "KeyError",
     "evalue": "'Is_Outlier_Square_Feet'",
     "output_type": "error",
     "traceback": [
      "\u001b[0;31m---------------------------------------------------------------------------\u001b[0m",
      "\u001b[0;31mKeyError\u001b[0m                                  Traceback (most recent call last)",
      "File \u001b[0;32m~/anaconda3/lib/python3.10/site-packages/pandas/core/indexes/base.py:3802\u001b[0m, in \u001b[0;36mIndex.get_loc\u001b[0;34m(self, key, method, tolerance)\u001b[0m\n\u001b[1;32m   3801\u001b[0m \u001b[38;5;28;01mtry\u001b[39;00m:\n\u001b[0;32m-> 3802\u001b[0m     \u001b[38;5;28;01mreturn\u001b[39;00m \u001b[38;5;28;43mself\u001b[39;49m\u001b[38;5;241;43m.\u001b[39;49m\u001b[43m_engine\u001b[49m\u001b[38;5;241;43m.\u001b[39;49m\u001b[43mget_loc\u001b[49m\u001b[43m(\u001b[49m\u001b[43mcasted_key\u001b[49m\u001b[43m)\u001b[49m\n\u001b[1;32m   3803\u001b[0m \u001b[38;5;28;01mexcept\u001b[39;00m \u001b[38;5;167;01mKeyError\u001b[39;00m \u001b[38;5;28;01mas\u001b[39;00m err:\n",
      "File \u001b[0;32m~/anaconda3/lib/python3.10/site-packages/pandas/_libs/index.pyx:138\u001b[0m, in \u001b[0;36mpandas._libs.index.IndexEngine.get_loc\u001b[0;34m()\u001b[0m\n",
      "File \u001b[0;32m~/anaconda3/lib/python3.10/site-packages/pandas/_libs/index.pyx:165\u001b[0m, in \u001b[0;36mpandas._libs.index.IndexEngine.get_loc\u001b[0;34m()\u001b[0m\n",
      "File \u001b[0;32mpandas/_libs/hashtable_class_helper.pxi:5745\u001b[0m, in \u001b[0;36mpandas._libs.hashtable.PyObjectHashTable.get_item\u001b[0;34m()\u001b[0m\n",
      "File \u001b[0;32mpandas/_libs/hashtable_class_helper.pxi:5753\u001b[0m, in \u001b[0;36mpandas._libs.hashtable.PyObjectHashTable.get_item\u001b[0;34m()\u001b[0m\n",
      "\u001b[0;31mKeyError\u001b[0m: 'Is_Outlier_Square_Feet'",
      "\nThe above exception was the direct cause of the following exception:\n",
      "\u001b[0;31mKeyError\u001b[0m                                  Traceback (most recent call last)",
      "Cell \u001b[0;32mIn[180], line 8\u001b[0m\n\u001b[1;32m      5\u001b[0m \u001b[38;5;66;03m# Loop through each numerical column and plot the boxplot with outliers\u001b[39;00m\n\u001b[1;32m      6\u001b[0m \u001b[38;5;28;01mfor\u001b[39;00m column \u001b[38;5;129;01min\u001b[39;00m numerical_columns:\n\u001b[1;32m      7\u001b[0m     \u001b[38;5;66;03m# Filter outliers and non-outliers for the current column\u001b[39;00m\n\u001b[0;32m----> 8\u001b[0m     outliers \u001b[38;5;241m=\u001b[39m house_df[\u001b[43mhouse_df\u001b[49m\u001b[43m[\u001b[49m\u001b[38;5;124;43mf\u001b[39;49m\u001b[38;5;124;43m'\u001b[39;49m\u001b[38;5;124;43mIs_Outlier_\u001b[39;49m\u001b[38;5;132;43;01m{\u001b[39;49;00m\u001b[43mcolumn\u001b[49m\u001b[38;5;132;43;01m}\u001b[39;49;00m\u001b[38;5;124;43m'\u001b[39;49m\u001b[43m]\u001b[49m \u001b[38;5;241m==\u001b[39m \u001b[38;5;28;01mTrue\u001b[39;00m]\n\u001b[1;32m      9\u001b[0m     non_outliers \u001b[38;5;241m=\u001b[39m house_df[house_df[\u001b[38;5;124mf\u001b[39m\u001b[38;5;124m'\u001b[39m\u001b[38;5;124mIs_Outlier_\u001b[39m\u001b[38;5;132;01m{\u001b[39;00mcolumn\u001b[38;5;132;01m}\u001b[39;00m\u001b[38;5;124m'\u001b[39m] \u001b[38;5;241m==\u001b[39m \u001b[38;5;28;01mFalse\u001b[39;00m]\n\u001b[1;32m     11\u001b[0m     \u001b[38;5;66;03m# Set up the plot for this column\u001b[39;00m\n",
      "File \u001b[0;32m~/anaconda3/lib/python3.10/site-packages/pandas/core/frame.py:3807\u001b[0m, in \u001b[0;36mDataFrame.__getitem__\u001b[0;34m(self, key)\u001b[0m\n\u001b[1;32m   3805\u001b[0m \u001b[38;5;28;01mif\u001b[39;00m \u001b[38;5;28mself\u001b[39m\u001b[38;5;241m.\u001b[39mcolumns\u001b[38;5;241m.\u001b[39mnlevels \u001b[38;5;241m>\u001b[39m \u001b[38;5;241m1\u001b[39m:\n\u001b[1;32m   3806\u001b[0m     \u001b[38;5;28;01mreturn\u001b[39;00m \u001b[38;5;28mself\u001b[39m\u001b[38;5;241m.\u001b[39m_getitem_multilevel(key)\n\u001b[0;32m-> 3807\u001b[0m indexer \u001b[38;5;241m=\u001b[39m \u001b[38;5;28;43mself\u001b[39;49m\u001b[38;5;241;43m.\u001b[39;49m\u001b[43mcolumns\u001b[49m\u001b[38;5;241;43m.\u001b[39;49m\u001b[43mget_loc\u001b[49m\u001b[43m(\u001b[49m\u001b[43mkey\u001b[49m\u001b[43m)\u001b[49m\n\u001b[1;32m   3808\u001b[0m \u001b[38;5;28;01mif\u001b[39;00m is_integer(indexer):\n\u001b[1;32m   3809\u001b[0m     indexer \u001b[38;5;241m=\u001b[39m [indexer]\n",
      "File \u001b[0;32m~/anaconda3/lib/python3.10/site-packages/pandas/core/indexes/base.py:3804\u001b[0m, in \u001b[0;36mIndex.get_loc\u001b[0;34m(self, key, method, tolerance)\u001b[0m\n\u001b[1;32m   3802\u001b[0m     \u001b[38;5;28;01mreturn\u001b[39;00m \u001b[38;5;28mself\u001b[39m\u001b[38;5;241m.\u001b[39m_engine\u001b[38;5;241m.\u001b[39mget_loc(casted_key)\n\u001b[1;32m   3803\u001b[0m \u001b[38;5;28;01mexcept\u001b[39;00m \u001b[38;5;167;01mKeyError\u001b[39;00m \u001b[38;5;28;01mas\u001b[39;00m err:\n\u001b[0;32m-> 3804\u001b[0m     \u001b[38;5;28;01mraise\u001b[39;00m \u001b[38;5;167;01mKeyError\u001b[39;00m(key) \u001b[38;5;28;01mfrom\u001b[39;00m \u001b[38;5;21;01merr\u001b[39;00m\n\u001b[1;32m   3805\u001b[0m \u001b[38;5;28;01mexcept\u001b[39;00m \u001b[38;5;167;01mTypeError\u001b[39;00m:\n\u001b[1;32m   3806\u001b[0m     \u001b[38;5;66;03m# If we have a listlike key, _check_indexing_error will raise\u001b[39;00m\n\u001b[1;32m   3807\u001b[0m     \u001b[38;5;66;03m#  InvalidIndexError. Otherwise we fall through and re-raise\u001b[39;00m\n\u001b[1;32m   3808\u001b[0m     \u001b[38;5;66;03m#  the TypeError.\u001b[39;00m\n\u001b[1;32m   3809\u001b[0m     \u001b[38;5;28mself\u001b[39m\u001b[38;5;241m.\u001b[39m_check_indexing_error(key)\n",
      "\u001b[0;31mKeyError\u001b[0m: 'Is_Outlier_Square_Feet'"
     ]
    }
   ],
   "source": [
    "# List of numerical columns in the dataframe, excluding 'ID', LOF columns, and categorical columns\n",
    "numerical_columns = house_df.select_dtypes(include=['float64', 'int64']).columns.tolist()\n",
    "numerical_columns = [col for col in numerical_columns if col != 'ID' and 'LOF_Score' not in col]  # Skip 'ID' and LOF columns\n",
    "\n",
    "# Loop through each numerical column and plot the boxplot with outliers\n",
    "for column in numerical_columns:\n",
    "    # Filter outliers and non-outliers for the current column\n",
    "    outliers = house_df[house_df[f'Is_Outlier_{column}'] == True]\n",
    "    non_outliers = house_df[house_df[f'Is_Outlier_{column}'] == False]\n",
    "\n",
    "    # Set up the plot for this column\n",
    "    plt.figure(figsize=(10, 6))\n",
    "\n",
    "    # Plot the non-outliers\n",
    "    sns.boxplot(x=house_df[column], color='lightblue', label='Non-Outliers')\n",
    "\n",
    "    # Plot the outliers (overlay on the same plot)\n",
    "    sns.scatterplot(x=outliers[column], y=[0] * len(outliers), color='red', marker='o', s=100, label='Outliers')\n",
    "\n",
    "    # Title and labels\n",
    "    plt.title(f'{column} - Outlier Detection', fontsize=16)\n",
    "    plt.xlabel(f'{column}', fontsize=14)\n",
    "    plt.ylabel('Frequency', fontsize=14)\n",
    "\n",
    "    # Show legend\n",
    "    plt.legend()\n",
    "\n",
    "    # Show the plot\n",
    "    plt.show()\n"
   ]
  },
  {
   "cell_type": "markdown",
   "id": "9fb3ec54",
   "metadata": {},
   "source": [
    "### Choose a column to check outliers:\n",
    "In the cell below choose a column by entering a value in the \"col\" variable"
   ]
  },
  {
   "cell_type": "code",
   "execution_count": 157,
   "id": "d4e12f2d",
   "metadata": {},
   "outputs": [
    {
     "data": {
      "text/html": [
       "<div>\n",
       "<style scoped>\n",
       "    .dataframe tbody tr th:only-of-type {\n",
       "        vertical-align: middle;\n",
       "    }\n",
       "\n",
       "    .dataframe tbody tr th {\n",
       "        vertical-align: top;\n",
       "    }\n",
       "\n",
       "    .dataframe thead th {\n",
       "        text-align: right;\n",
       "    }\n",
       "</style>\n",
       "<table border=\"1\" class=\"dataframe\">\n",
       "  <thead>\n",
       "    <tr style=\"text-align: right;\">\n",
       "      <th></th>\n",
       "      <th>ID</th>\n",
       "      <th>Square_Feet</th>\n",
       "      <th>Num_Bedrooms</th>\n",
       "      <th>Num_Bathrooms</th>\n",
       "      <th>Num_Floors</th>\n",
       "      <th>Year_Built</th>\n",
       "      <th>Has_Garden</th>\n",
       "      <th>Has_Pool</th>\n",
       "      <th>Garage_Size</th>\n",
       "      <th>Location_Score</th>\n",
       "      <th>Distance_to_Center</th>\n",
       "      <th>Price</th>\n",
       "    </tr>\n",
       "  </thead>\n",
       "  <tbody>\n",
       "    <tr>\n",
       "      <th>51</th>\n",
       "      <td>52</td>\n",
       "      <td>279.861400</td>\n",
       "      <td>1</td>\n",
       "      <td>2</td>\n",
       "      <td>2</td>\n",
       "      <td>1940</td>\n",
       "      <td>1</td>\n",
       "      <td>1</td>\n",
       "      <td>243.783206</td>\n",
       "      <td>9.286603</td>\n",
       "      <td>14.626330</td>\n",
       "      <td>570832.170460</td>\n",
       "    </tr>\n",
       "    <tr>\n",
       "      <th>66</th>\n",
       "      <td>67</td>\n",
       "      <td>290.625300</td>\n",
       "      <td>3</td>\n",
       "      <td>2</td>\n",
       "      <td>1</td>\n",
       "      <td>2009</td>\n",
       "      <td>1</td>\n",
       "      <td>1</td>\n",
       "      <td>85.231056</td>\n",
       "      <td>1.088933</td>\n",
       "      <td>12.955485</td>\n",
       "      <td>578817.546394</td>\n",
       "    </tr>\n",
       "    <tr>\n",
       "      <th>86</th>\n",
       "      <td>87</td>\n",
       "      <td>462.847700</td>\n",
       "      <td>3</td>\n",
       "      <td>1</td>\n",
       "      <td>3</td>\n",
       "      <td>1904</td>\n",
       "      <td>0</td>\n",
       "      <td>1</td>\n",
       "      <td>232.401545</td>\n",
       "      <td>3.927938</td>\n",
       "      <td>12.168179</td>\n",
       "      <td>572360.649869</td>\n",
       "    </tr>\n",
       "    <tr>\n",
       "      <th>105</th>\n",
       "      <td>106</td>\n",
       "      <td>150.694600</td>\n",
       "      <td>5</td>\n",
       "      <td>2</td>\n",
       "      <td>2</td>\n",
       "      <td>1901</td>\n",
       "      <td>0</td>\n",
       "      <td>1</td>\n",
       "      <td>154.626383</td>\n",
       "      <td>5.146836</td>\n",
       "      <td>7.004060</td>\n",
       "      <td>570260.366058</td>\n",
       "    </tr>\n",
       "    <tr>\n",
       "      <th>107</th>\n",
       "      <td>108</td>\n",
       "      <td>462.847700</td>\n",
       "      <td>5</td>\n",
       "      <td>3</td>\n",
       "      <td>3</td>\n",
       "      <td>1980</td>\n",
       "      <td>1</td>\n",
       "      <td>1</td>\n",
       "      <td>238.887785</td>\n",
       "      <td>2.538211</td>\n",
       "      <td>15.170038</td>\n",
       "      <td>860013.258204</td>\n",
       "    </tr>\n",
       "    <tr>\n",
       "      <th>122</th>\n",
       "      <td>123</td>\n",
       "      <td>161.458500</td>\n",
       "      <td>5</td>\n",
       "      <td>1</td>\n",
       "      <td>2</td>\n",
       "      <td>1946</td>\n",
       "      <td>1</td>\n",
       "      <td>1</td>\n",
       "      <td>129.500869</td>\n",
       "      <td>0.577029</td>\n",
       "      <td>15.165346</td>\n",
       "      <td>567986.795154</td>\n",
       "    </tr>\n",
       "    <tr>\n",
       "      <th>124</th>\n",
       "      <td>125</td>\n",
       "      <td>419.792100</td>\n",
       "      <td>5</td>\n",
       "      <td>1</td>\n",
       "      <td>3</td>\n",
       "      <td>1954</td>\n",
       "      <td>0</td>\n",
       "      <td>0</td>\n",
       "      <td>106.983791</td>\n",
       "      <td>2.755479</td>\n",
       "      <td>8.299424</td>\n",
       "      <td>573486.145827</td>\n",
       "    </tr>\n",
       "    <tr>\n",
       "      <th>133</th>\n",
       "      <td>134</td>\n",
       "      <td>193.750200</td>\n",
       "      <td>5</td>\n",
       "      <td>1</td>\n",
       "      <td>1</td>\n",
       "      <td>1916</td>\n",
       "      <td>1</td>\n",
       "      <td>1</td>\n",
       "      <td>154.626383</td>\n",
       "      <td>9.743722</td>\n",
       "      <td>14.915068</td>\n",
       "      <td>565358.053143</td>\n",
       "    </tr>\n",
       "    <tr>\n",
       "      <th>138</th>\n",
       "      <td>139</td>\n",
       "      <td>333.680900</td>\n",
       "      <td>4</td>\n",
       "      <td>3</td>\n",
       "      <td>3</td>\n",
       "      <td>1902</td>\n",
       "      <td>1</td>\n",
       "      <td>0</td>\n",
       "      <td>140.907401</td>\n",
       "      <td>9.563201</td>\n",
       "      <td>9.015526</td>\n",
       "      <td>574652.919761</td>\n",
       "    </tr>\n",
       "    <tr>\n",
       "      <th>160</th>\n",
       "      <td>161</td>\n",
       "      <td>215.278000</td>\n",
       "      <td>4</td>\n",
       "      <td>2</td>\n",
       "      <td>1</td>\n",
       "      <td>1971</td>\n",
       "      <td>1</td>\n",
       "      <td>0</td>\n",
       "      <td>141.945783</td>\n",
       "      <td>5.938025</td>\n",
       "      <td>3.012162</td>\n",
       "      <td>579720.468570</td>\n",
       "    </tr>\n",
       "    <tr>\n",
       "      <th>163</th>\n",
       "      <td>164</td>\n",
       "      <td>473.611600</td>\n",
       "      <td>2</td>\n",
       "      <td>3</td>\n",
       "      <td>3</td>\n",
       "      <td>1932</td>\n",
       "      <td>0</td>\n",
       "      <td>1</td>\n",
       "      <td>183.943671</td>\n",
       "      <td>3.643542</td>\n",
       "      <td>5.280087</td>\n",
       "      <td>576290.463267</td>\n",
       "    </tr>\n",
       "    <tr>\n",
       "      <th>174</th>\n",
       "      <td>175</td>\n",
       "      <td>211.293198</td>\n",
       "      <td>1</td>\n",
       "      <td>1</td>\n",
       "      <td>2</td>\n",
       "      <td>2013</td>\n",
       "      <td>0</td>\n",
       "      <td>1</td>\n",
       "      <td>150.694600</td>\n",
       "      <td>5.156594</td>\n",
       "      <td>8.728392</td>\n",
       "      <td>569188.941557</td>\n",
       "    </tr>\n",
       "    <tr>\n",
       "      <th>206</th>\n",
       "      <td>207</td>\n",
       "      <td>279.861400</td>\n",
       "      <td>5</td>\n",
       "      <td>2</td>\n",
       "      <td>3</td>\n",
       "      <td>1941</td>\n",
       "      <td>1</td>\n",
       "      <td>1</td>\n",
       "      <td>75.367886</td>\n",
       "      <td>4.057512</td>\n",
       "      <td>18.768275</td>\n",
       "      <td>567600.507831</td>\n",
       "    </tr>\n",
       "    <tr>\n",
       "      <th>240</th>\n",
       "      <td>241</td>\n",
       "      <td>419.792100</td>\n",
       "      <td>1</td>\n",
       "      <td>2</td>\n",
       "      <td>2</td>\n",
       "      <td>1935</td>\n",
       "      <td>1</td>\n",
       "      <td>1</td>\n",
       "      <td>285.114646</td>\n",
       "      <td>1.421704</td>\n",
       "      <td>11.093754</td>\n",
       "      <td>566252.777332</td>\n",
       "    </tr>\n",
       "    <tr>\n",
       "      <th>279</th>\n",
       "      <td>280</td>\n",
       "      <td>248.948167</td>\n",
       "      <td>1</td>\n",
       "      <td>3</td>\n",
       "      <td>3</td>\n",
       "      <td>1931</td>\n",
       "      <td>1</td>\n",
       "      <td>0</td>\n",
       "      <td>129.166800</td>\n",
       "      <td>8.164108</td>\n",
       "      <td>10.886066</td>\n",
       "      <td>572448.657063</td>\n",
       "    </tr>\n",
       "    <tr>\n",
       "      <th>298</th>\n",
       "      <td>299</td>\n",
       "      <td>462.847700</td>\n",
       "      <td>2</td>\n",
       "      <td>1</td>\n",
       "      <td>3</td>\n",
       "      <td>1978</td>\n",
       "      <td>0</td>\n",
       "      <td>1</td>\n",
       "      <td>205.722619</td>\n",
       "      <td>2.471316</td>\n",
       "      <td>8.324361</td>\n",
       "      <td>569543.904468</td>\n",
       "    </tr>\n",
       "    <tr>\n",
       "      <th>321</th>\n",
       "      <td>322</td>\n",
       "      <td>228.648981</td>\n",
       "      <td>1</td>\n",
       "      <td>2</td>\n",
       "      <td>3</td>\n",
       "      <td>1951</td>\n",
       "      <td>1</td>\n",
       "      <td>1</td>\n",
       "      <td>204.514100</td>\n",
       "      <td>5.477847</td>\n",
       "      <td>17.964761</td>\n",
       "      <td>579646.208462</td>\n",
       "    </tr>\n",
       "    <tr>\n",
       "      <th>351</th>\n",
       "      <td>352</td>\n",
       "      <td>441.319900</td>\n",
       "      <td>3</td>\n",
       "      <td>3</td>\n",
       "      <td>1</td>\n",
       "      <td>1920</td>\n",
       "      <td>0</td>\n",
       "      <td>0</td>\n",
       "      <td>264.122460</td>\n",
       "      <td>5.835570</td>\n",
       "      <td>2.527130</td>\n",
       "      <td>571088.682872</td>\n",
       "    </tr>\n",
       "    <tr>\n",
       "      <th>352</th>\n",
       "      <td>353</td>\n",
       "      <td>333.680900</td>\n",
       "      <td>5</td>\n",
       "      <td>2</td>\n",
       "      <td>1</td>\n",
       "      <td>1909</td>\n",
       "      <td>0</td>\n",
       "      <td>0</td>\n",
       "      <td>214.673408</td>\n",
       "      <td>5.257562</td>\n",
       "      <td>11.251104</td>\n",
       "      <td>577045.215572</td>\n",
       "    </tr>\n",
       "    <tr>\n",
       "      <th>367</th>\n",
       "      <td>368</td>\n",
       "      <td>462.847700</td>\n",
       "      <td>4</td>\n",
       "      <td>3</td>\n",
       "      <td>2</td>\n",
       "      <td>2000</td>\n",
       "      <td>0</td>\n",
       "      <td>1</td>\n",
       "      <td>276.337660</td>\n",
       "      <td>3.856135</td>\n",
       "      <td>10.277015</td>\n",
       "      <td>857487.181744</td>\n",
       "    </tr>\n",
       "    <tr>\n",
       "      <th>371</th>\n",
       "      <td>372</td>\n",
       "      <td>258.333600</td>\n",
       "      <td>5</td>\n",
       "      <td>3</td>\n",
       "      <td>1</td>\n",
       "      <td>1980</td>\n",
       "      <td>0</td>\n",
       "      <td>0</td>\n",
       "      <td>54.555456</td>\n",
       "      <td>2.204837</td>\n",
       "      <td>10.202968</td>\n",
       "      <td>571107.834475</td>\n",
       "    </tr>\n",
       "    <tr>\n",
       "      <th>403</th>\n",
       "      <td>404</td>\n",
       "      <td>495.139400</td>\n",
       "      <td>3</td>\n",
       "      <td>2</td>\n",
       "      <td>2</td>\n",
       "      <td>1908</td>\n",
       "      <td>0</td>\n",
       "      <td>0</td>\n",
       "      <td>256.614367</td>\n",
       "      <td>4.247715</td>\n",
       "      <td>10.439060</td>\n",
       "      <td>568484.722268</td>\n",
       "    </tr>\n",
       "    <tr>\n",
       "      <th>421</th>\n",
       "      <td>422</td>\n",
       "      <td>322.917000</td>\n",
       "      <td>3</td>\n",
       "      <td>1</td>\n",
       "      <td>2</td>\n",
       "      <td>1907</td>\n",
       "      <td>0</td>\n",
       "      <td>1</td>\n",
       "      <td>193.750200</td>\n",
       "      <td>2.062174</td>\n",
       "      <td>11.798958</td>\n",
       "      <td>576984.360301</td>\n",
       "    </tr>\n",
       "    <tr>\n",
       "      <th>466</th>\n",
       "      <td>467</td>\n",
       "      <td>409.028200</td>\n",
       "      <td>5</td>\n",
       "      <td>2</td>\n",
       "      <td>3</td>\n",
       "      <td>1927</td>\n",
       "      <td>0</td>\n",
       "      <td>1</td>\n",
       "      <td>121.428022</td>\n",
       "      <td>7.425308</td>\n",
       "      <td>18.547104</td>\n",
       "      <td>570113.231931</td>\n",
       "    </tr>\n",
       "    <tr>\n",
       "      <th>486</th>\n",
       "      <td>487</td>\n",
       "      <td>441.319900</td>\n",
       "      <td>2</td>\n",
       "      <td>3</td>\n",
       "      <td>2</td>\n",
       "      <td>2003</td>\n",
       "      <td>1</td>\n",
       "      <td>1</td>\n",
       "      <td>61.361595</td>\n",
       "      <td>4.618435</td>\n",
       "      <td>7.008265</td>\n",
       "      <td>574795.306932</td>\n",
       "    </tr>\n",
       "  </tbody>\n",
       "</table>\n",
       "</div>"
      ],
      "text/plain": [
       "      ID  Square_Feet  Num_Bedrooms  Num_Bathrooms  Num_Floors  Year_Built  \\\n",
       "51    52   279.861400             1              2           2        1940   \n",
       "66    67   290.625300             3              2           1        2009   \n",
       "86    87   462.847700             3              1           3        1904   \n",
       "105  106   150.694600             5              2           2        1901   \n",
       "107  108   462.847700             5              3           3        1980   \n",
       "122  123   161.458500             5              1           2        1946   \n",
       "124  125   419.792100             5              1           3        1954   \n",
       "133  134   193.750200             5              1           1        1916   \n",
       "138  139   333.680900             4              3           3        1902   \n",
       "160  161   215.278000             4              2           1        1971   \n",
       "163  164   473.611600             2              3           3        1932   \n",
       "174  175   211.293198             1              1           2        2013   \n",
       "206  207   279.861400             5              2           3        1941   \n",
       "240  241   419.792100             1              2           2        1935   \n",
       "279  280   248.948167             1              3           3        1931   \n",
       "298  299   462.847700             2              1           3        1978   \n",
       "321  322   228.648981             1              2           3        1951   \n",
       "351  352   441.319900             3              3           1        1920   \n",
       "352  353   333.680900             5              2           1        1909   \n",
       "367  368   462.847700             4              3           2        2000   \n",
       "371  372   258.333600             5              3           1        1980   \n",
       "403  404   495.139400             3              2           2        1908   \n",
       "421  422   322.917000             3              1           2        1907   \n",
       "466  467   409.028200             5              2           3        1927   \n",
       "486  487   441.319900             2              3           2        2003   \n",
       "\n",
       "     Has_Garden  Has_Pool  Garage_Size  Location_Score  Distance_to_Center  \\\n",
       "51            1         1   243.783206        9.286603           14.626330   \n",
       "66            1         1    85.231056        1.088933           12.955485   \n",
       "86            0         1   232.401545        3.927938           12.168179   \n",
       "105           0         1   154.626383        5.146836            7.004060   \n",
       "107           1         1   238.887785        2.538211           15.170038   \n",
       "122           1         1   129.500869        0.577029           15.165346   \n",
       "124           0         0   106.983791        2.755479            8.299424   \n",
       "133           1         1   154.626383        9.743722           14.915068   \n",
       "138           1         0   140.907401        9.563201            9.015526   \n",
       "160           1         0   141.945783        5.938025            3.012162   \n",
       "163           0         1   183.943671        3.643542            5.280087   \n",
       "174           0         1   150.694600        5.156594            8.728392   \n",
       "206           1         1    75.367886        4.057512           18.768275   \n",
       "240           1         1   285.114646        1.421704           11.093754   \n",
       "279           1         0   129.166800        8.164108           10.886066   \n",
       "298           0         1   205.722619        2.471316            8.324361   \n",
       "321           1         1   204.514100        5.477847           17.964761   \n",
       "351           0         0   264.122460        5.835570            2.527130   \n",
       "352           0         0   214.673408        5.257562           11.251104   \n",
       "367           0         1   276.337660        3.856135           10.277015   \n",
       "371           0         0    54.555456        2.204837           10.202968   \n",
       "403           0         0   256.614367        4.247715           10.439060   \n",
       "421           0         1   193.750200        2.062174           11.798958   \n",
       "466           0         1   121.428022        7.425308           18.547104   \n",
       "486           1         1    61.361595        4.618435            7.008265   \n",
       "\n",
       "             Price  \n",
       "51   570832.170460  \n",
       "66   578817.546394  \n",
       "86   572360.649869  \n",
       "105  570260.366058  \n",
       "107  860013.258204  \n",
       "122  567986.795154  \n",
       "124  573486.145827  \n",
       "133  565358.053143  \n",
       "138  574652.919761  \n",
       "160  579720.468570  \n",
       "163  576290.463267  \n",
       "174  569188.941557  \n",
       "206  567600.507831  \n",
       "240  566252.777332  \n",
       "279  572448.657063  \n",
       "298  569543.904468  \n",
       "321  579646.208462  \n",
       "351  571088.682872  \n",
       "352  577045.215572  \n",
       "367  857487.181744  \n",
       "371  571107.834475  \n",
       "403  568484.722268  \n",
       "421  576984.360301  \n",
       "466  570113.231931  \n",
       "486  574795.306932  "
      ]
     },
     "execution_count": 157,
     "metadata": {},
     "output_type": "execute_result"
    }
   ],
   "source": [
    "# Get rows where 'Is_Outlier_Year_Built' is True\n",
    "\n",
    "col = \"Price\"\n",
    "outliers_year_built = house_df[house_df[f'Is_Outlier_{col}'] == True]\n",
    "\n",
    "# Display the rows\n",
    "outliers_year_built[main_columns]\n"
   ]
  },
  {
   "cell_type": "markdown",
   "id": "c268b1fb",
   "metadata": {},
   "source": [
    "### Perform Imputation on Outliers:\n",
    "\n",
    "The Year Built column  outliers are imputed with the mode year and the rest are imputed with the median"
   ]
  },
  {
   "cell_type": "code",
   "execution_count": 158,
   "id": "e0675ec2",
   "metadata": {},
   "outputs": [],
   "source": [
    "# Columns to check for outliers and perform imputation\n",
    "columns_to_impute = [\n",
    "    'Square_Feet', 'Num_Bedrooms', 'Num_Bathrooms', 'Num_Floors', 'Year_Built',\n",
    "    'Has_Garden', 'Has_Pool', 'Garage_Size', 'Location_Score', 'Distance_to_Center', 'Price'\n",
    "]\n",
    "\n",
    "# Apply appropriate imputation method based on outlier status\n",
    "for col in columns_to_impute:\n",
    "    outlier_col = 'Is_Outlier_' + col\n",
    "\n",
    "    if outlier_col in house_df.columns:\n",
    "        # Use Mode for Year_Built, otherwise use Median for other numerical columns\n",
    "        if col == 'Year_Built':\n",
    "            imputation_value = house_df[col].mode()[0]  # Mode for Year_Built\n",
    "        else:\n",
    "            imputation_value = house_df[col].median()  # Median for other numerical columns\n",
    "\n",
    "        # Apply the imputation to outlier rows\n",
    "        house_df.loc[house_df[outlier_col] == True, col] = imputation_value\n"
   ]
  },
  {
   "cell_type": "markdown",
   "id": "5e38df63",
   "metadata": {},
   "source": [
    "### Verify the outliers have been cleaned:"
   ]
  },
  {
   "cell_type": "code",
   "execution_count": 159,
   "id": "0fadda23",
   "metadata": {},
   "outputs": [
    {
     "data": {
      "image/png": "[encoded data removed]",
      "text/plain": [
       "<Figure size 1000x600 with 1 Axes>"
      ]
     },
     "metadata": {},
     "output_type": "display_data"
    },
    {
     "data": {
      "image/png": "[encoded data removed]",
      "text/plain": [
       "<Figure size 1000x600 with 1 Axes>"
      ]
     },
     "metadata": {},
     "output_type": "display_data"
    },
    {
     "data": {
      "image/png": "[encoded data removed]",
      "text/plain": [
       "<Figure size 1000x600 with 1 Axes>"
      ]
     },
     "metadata": {},
     "output_type": "display_data"
    },
    {
     "data": {
      "image/png": "[encoded data removed]",
      "text/plain": [
       "<Figure size 1000x600 with 1 Axes>"
      ]
     },
     "metadata": {},
     "output_type": "display_data"
    },
    {
     "data": {
      "image/png": "[encoded data removed]",
      "text/plain": [
       "<Figure size 1000x600 with 1 Axes>"
      ]
     },
     "metadata": {},
     "output_type": "display_data"
    },
    {
     "data": {
      "image/png": "[encoded data removed]",
      "text/plain": [
       "<Figure size 1000x600 with 1 Axes>"
      ]
     },
     "metadata": {},
     "output_type": "display_data"
    },
    {
     "data": {
      "image/png": "[encoded data removed]",
      "text/plain": [
       "<Figure size 1000x600 with 1 Axes>"
      ]
     },
     "metadata": {},
     "output_type": "display_data"
    },
    {
     "data": {
      "image/png": "[encoded data removed]",
      "text/plain": [
       "<Figure size 1000x600 with 1 Axes>"
      ]
     },
     "metadata": {},
     "output_type": "display_data"
    },
    {
     "data": {
      "image/png": "[encoded data removed]",
      "text/plain": [
       "<Figure size 1000x600 with 1 Axes>"
      ]
     },
     "metadata": {},
     "output_type": "display_data"
    },
    {
     "data": {
      "image/png": "[encoded data removed]",
      "text/plain": [
       "<Figure size 1000x600 with 1 Axes>"
      ]
     },
     "metadata": {},
     "output_type": "display_data"
    },
    {
     "data": {
      "image/png": "[encoded data removed]",
      "text/plain": [
       "<Figure size 1000x600 with 1 Axes>"
      ]
     },
     "metadata": {},
     "output_type": "display_data"
    }
   ],
   "source": [
    "# List of numerical columns in the dataframe, excluding 'ID', LOF columns, and categorical columns\n",
    "numerical_columns = house_df.select_dtypes(include=['float64', 'int64']).columns.tolist()\n",
    "numerical_columns = [col for col in numerical_columns if col != 'ID' and 'LOF_Score' not in col]  # Skip 'ID' and LOF columns\n",
    "\n",
    "# Loop through each numerical column and plot the boxplot with outliers\n",
    "for column in numerical_columns:\n",
    "    # Filter outliers and non-outliers for the current column\n",
    "    outliers = house_df[house_df[f'Is_Outlier_{column}'] == True]\n",
    "    non_outliers = house_df[house_df[f'Is_Outlier_{column}'] == False]\n",
    "\n",
    "    # Set up the plot for this column\n",
    "    plt.figure(figsize=(10, 6))\n",
    "\n",
    "    # Plot the non-outliers\n",
    "    sns.boxplot(x=house_df[column], color='lightblue', label='Non-Outliers')\n",
    "\n",
    "    # Plot the outliers (overlay on the same plot)\n",
    "    sns.scatterplot(x=outliers[column], y=[0] * len(outliers), color='red', marker='o', s=100, label='Outliers')\n",
    "\n",
    "    # Title and labels\n",
    "    plt.title(f'{column} - Outlier Detection', fontsize=16)\n",
    "    plt.xlabel(f'{column}', fontsize=14)\n",
    "    plt.ylabel('Frequency', fontsize=14)\n",
    "\n",
    "    # Show legend\n",
    "    plt.legend()\n",
    "\n",
    "    # Show the plot\n",
    "    plt.show()"
   ]
  },
  {
   "cell_type": "markdown",
   "id": "de7e0d43",
   "metadata": {},
   "source": [
    "# Sources:\n",
    "Smallest Possible House Size: https://www.greatlakestinyhome.com/worlds-smallest-house/#:~:text=Keret%20House%2C%20Poland&text=It%20boasts%20a%20world%20record,story%20on%20the%20first%20floor.\n",
    "\n",
    "Oldest built home: https://geojango.com/blogs/explore-your-world/oldest-homes-america?srsltid=AfmBOoq0J_96cQgna1C_MJVIoC61INx0zlf6BAcT8YgHT8LzfNNKZdNC\n",
    "\n",
    "Minumum Garage Size: https://shedsunlimited.net/blog/how-large-is-a-one-car-garage/?srsltid=AfmBOoq7cjf-SXORwozvt1vRW4ow4GMjwQg8tTLz0ldzLrky1VLNK3zc"
   ]
  }
 ],
 "metadata": {
  "kernelspec": {
   "display_name": "Python 3 (ipykernel)",
   "language": "python",
   "name": "python3"
  },
  "language_info": {
   "codemirror_mode": {
    "name": "ipython",
    "version": 3
   },
   "file_extension": ".py",
   "mimetype": "text/x-python",
   "name": "python",
   "nbconvert_exporter": "python",
   "pygments_lexer": "ipython3",
   "version": "3.10.9"
  }
 },
 "nbformat": 4,
 "nbformat_minor": 5
}
