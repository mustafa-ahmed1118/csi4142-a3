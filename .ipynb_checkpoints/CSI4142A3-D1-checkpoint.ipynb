{
 "cells": [
  {
   "cell_type": "markdown",
   "id": "5f4cc83f",
   "metadata": {},
   "source": [
    "# CSI 4142 Assignment 3: Dataset 1: Housing Prices"
   ]
  },
  {
   "cell_type": "markdown",
   "id": "e1f1005c",
   "metadata": {},
   "source": [
    "## Group Info:\n",
    "**Group #:** 120\n",
    "\n",
    "**<u>Group Members</u>**<br>\n",
    "Aydin Yalcinkaya 300238613<br>\n",
    "Mustafa Ahmed 300242013<br>"
   ]
  },
  {
   "cell_type": "markdown",
   "id": "1205f38d",
   "metadata": {},
   "source": [
    "# Imports and Installations\n",
    "Before getting started we must perform a few installations and library imports.\n",
    "\n",
    "Run the following installations:"
   ]
  },
  {
   "cell_type": "code",
   "execution_count": 188,
   "id": "be1f941b",
   "metadata": {},
   "outputs": [],
   "source": [
    "#imports\n",
    "import pandas as pd\n",
    "import os.path\n",
    "from datetime import datetime\n",
    "import re\n",
    "import numpy as np\n",
    "from IPython.display import display\n",
    "from rapidfuzz import fuzz\n",
    "from rapidfuzz import process"
   ]
  },
  {
   "cell_type": "markdown",
   "id": "418c0177",
   "metadata": {},
   "source": [
    "## Report Description\n",
    "\n",
    "The purpose of this report is to practice a predictive analysis study. The primary methodology is using Lineaer Regression."
   ]
  },
  {
   "cell_type": "markdown",
   "id": "f6b8ccd0",
   "metadata": {},
   "source": [
    "## Housing Prices Regression Dataset\n",
    "Author: Den Kuznetz\n",
    "\n",
    "Link to the dataset: https://www.kaggle.com/datasets/denkuznetz/housing-prices-regression\n",
    "\n",
    "Dataset use-case: dataset prepared for creating a predictive model.\n",
    "\n",
    "### How to download:\n",
    "Run the following command in the same directory as the notebook:"
   ]
  },
  {
   "cell_type": "code",
   "execution_count": 189,
   "id": "9edac74b",
   "metadata": {},
   "outputs": [
    {
     "name": "stdout",
     "output_type": "stream",
     "text": [
      "rm: housing-prices-regression.zip: No such file or directory\n",
      "  % Total    % Received % Xferd  Average Speed   Time    Time     Time  Current\n",
      "                                 Dload  Upload   Total   Spent    Left  Speed\n",
      "  0     0    0     0    0     0      0      0 --:--:-- --:--:-- --:--:--     0\n",
      "100 24182  100 24182    0     0  66468      0 --:--:-- --:--:-- --:--:-- 66468\n",
      "Archive:  housing-prices-regression.zip\n",
      "  inflating: real_estate_dataset.csv  \n"
     ]
    }
   ],
   "source": [
    "! rm housing-prices-regression.zip real_estate_dataset.csv\n",
    "! curl -L -o housing-prices-regression.zip\\\n",
    "  https://www.kaggle.com/api/v1/datasets/download/denkuznetz/housing-prices-regression\\\n",
    "    && unzip housing-prices-regression.zip\n",
    "! rm housing-prices-regression.zip"
   ]
  },
  {
   "cell_type": "markdown",
   "id": "c63aa0dc",
   "metadata": {},
   "source": [
    "### Initial data output command:"
   ]
  },
  {
   "cell_type": "code",
   "execution_count": 190,
   "id": "873ac040",
   "metadata": {},
   "outputs": [
    {
     "name": "stdout",
     "output_type": "stream",
     "text": [
      "<class 'pandas.core.frame.DataFrame'>\n",
      "RangeIndex: 500 entries, 0 to 499\n",
      "Data columns (total 12 columns):\n",
      " #   Column              Non-Null Count  Dtype  \n",
      "---  ------              --------------  -----  \n",
      " 0   ID                  500 non-null    int64  \n",
      " 1   Square_Feet         500 non-null    float64\n",
      " 2   Num_Bedrooms        500 non-null    int64  \n",
      " 3   Num_Bathrooms       500 non-null    int64  \n",
      " 4   Num_Floors          500 non-null    int64  \n",
      " 5   Year_Built          500 non-null    int64  \n",
      " 6   Has_Garden          500 non-null    int64  \n",
      " 7   Has_Pool            500 non-null    int64  \n",
      " 8   Garage_Size         500 non-null    int64  \n",
      " 9   Location_Score      500 non-null    float64\n",
      " 10  Distance_to_Center  500 non-null    float64\n",
      " 11  Price               500 non-null    float64\n",
      "dtypes: float64(4), int64(8)\n",
      "memory usage: 47.0 KB\n",
      "None\n"
     ]
    }
   ],
   "source": [
    "if not os.path.exists('real_estate_dataset.csv'):\n",
    "    raise Exception('Please download and extract the dataset with the command above.')\n",
    "house_df = pd.read_csv('real_estate_dataset.csv')\n",
    "print(house_df.info())"
   ]
  },
  {
   "cell_type": "code",
   "execution_count": 193,
   "id": "9874a0fa",
   "metadata": {},
   "outputs": [
    {
     "data": {
      "text/html": [
       "<div>\n",
       "<style scoped>\n",
       "    .dataframe tbody tr th:only-of-type {\n",
       "        vertical-align: middle;\n",
       "    }\n",
       "\n",
       "    .dataframe tbody tr th {\n",
       "        vertical-align: top;\n",
       "    }\n",
       "\n",
       "    .dataframe thead th {\n",
       "        text-align: right;\n",
       "    }\n",
       "</style>\n",
       "<table border=\"1\" class=\"dataframe\">\n",
       "  <thead>\n",
       "    <tr style=\"text-align: right;\">\n",
       "      <th></th>\n",
       "      <th>ID</th>\n",
       "      <th>Square_Feet</th>\n",
       "      <th>Num_Bedrooms</th>\n",
       "      <th>Num_Bathrooms</th>\n",
       "      <th>Num_Floors</th>\n",
       "      <th>Year_Built</th>\n",
       "      <th>Has_Garden</th>\n",
       "      <th>Has_Pool</th>\n",
       "      <th>Garage_Size</th>\n",
       "      <th>Location_Score</th>\n",
       "      <th>Distance_to_Center</th>\n",
       "      <th>Price</th>\n",
       "    </tr>\n",
       "  </thead>\n",
       "  <tbody>\n",
       "    <tr>\n",
       "      <th>0</th>\n",
       "      <td>1</td>\n",
       "      <td>143.635030</td>\n",
       "      <td>1</td>\n",
       "      <td>3</td>\n",
       "      <td>3</td>\n",
       "      <td>1967</td>\n",
       "      <td>True</td>\n",
       "      <td>True</td>\n",
       "      <td>48</td>\n",
       "      <td>8.297631</td>\n",
       "      <td>5.935734</td>\n",
       "      <td>602134.816747</td>\n",
       "    </tr>\n",
       "    <tr>\n",
       "      <th>1</th>\n",
       "      <td>2</td>\n",
       "      <td>287.678577</td>\n",
       "      <td>1</td>\n",
       "      <td>2</td>\n",
       "      <td>1</td>\n",
       "      <td>1949</td>\n",
       "      <td>False</td>\n",
       "      <td>True</td>\n",
       "      <td>37</td>\n",
       "      <td>6.061466</td>\n",
       "      <td>10.827392</td>\n",
       "      <td>591425.135386</td>\n",
       "    </tr>\n",
       "    <tr>\n",
       "      <th>2</th>\n",
       "      <td>3</td>\n",
       "      <td>232.998485</td>\n",
       "      <td>1</td>\n",
       "      <td>3</td>\n",
       "      <td>2</td>\n",
       "      <td>1923</td>\n",
       "      <td>True</td>\n",
       "      <td>False</td>\n",
       "      <td>14</td>\n",
       "      <td>2.911442</td>\n",
       "      <td>6.904599</td>\n",
       "      <td>464478.696880</td>\n",
       "    </tr>\n",
       "    <tr>\n",
       "      <th>3</th>\n",
       "      <td>4</td>\n",
       "      <td>199.664621</td>\n",
       "      <td>5</td>\n",
       "      <td>2</td>\n",
       "      <td>2</td>\n",
       "      <td>1918</td>\n",
       "      <td>False</td>\n",
       "      <td>False</td>\n",
       "      <td>17</td>\n",
       "      <td>2.070949</td>\n",
       "      <td>8.284019</td>\n",
       "      <td>583105.655996</td>\n",
       "    </tr>\n",
       "    <tr>\n",
       "      <th>4</th>\n",
       "      <td>5</td>\n",
       "      <td>89.004660</td>\n",
       "      <td>4</td>\n",
       "      <td>3</td>\n",
       "      <td>3</td>\n",
       "      <td>1999</td>\n",
       "      <td>True</td>\n",
       "      <td>False</td>\n",
       "      <td>34</td>\n",
       "      <td>1.523278</td>\n",
       "      <td>14.648277</td>\n",
       "      <td>619879.142523</td>\n",
       "    </tr>\n",
       "  </tbody>\n",
       "</table>\n",
       "</div>"
      ],
      "text/plain": [
       "   ID  Square_Feet  Num_Bedrooms  Num_Bathrooms  Num_Floors  Year_Built  \\\n",
       "0   1   143.635030             1              3           3        1967   \n",
       "1   2   287.678577             1              2           1        1949   \n",
       "2   3   232.998485             1              3           2        1923   \n",
       "3   4   199.664621             5              2           2        1918   \n",
       "4   5    89.004660             4              3           3        1999   \n",
       "\n",
       "   Has_Garden  Has_Pool  Garage_Size  Location_Score  Distance_to_Center  \\\n",
       "0        True      True           48        8.297631            5.935734   \n",
       "1       False      True           37        6.061466           10.827392   \n",
       "2        True     False           14        2.911442            6.904599   \n",
       "3       False     False           17        2.070949            8.284019   \n",
       "4        True     False           34        1.523278           14.648277   \n",
       "\n",
       "           Price  \n",
       "0  602134.816747  \n",
       "1  591425.135386  \n",
       "2  464478.696880  \n",
       "3  583105.655996  \n",
       "4  619879.142523  "
      ]
     },
     "execution_count": 193,
     "metadata": {},
     "output_type": "execute_result"
    }
   ],
   "source": [
    "house_df.head()"
   ]
  },
  {
   "cell_type": "markdown",
   "id": "0753c84f",
   "metadata": {},
   "source": [
    "# 1) Data Cleaning:\n",
    "For our data cleaning we will perform the following cleaning checks followed by the relevant imputation/cleaning methods:\n",
    "\n",
    "- Consistency\n",
    "- Range\n",
    "- Uniqueness\n",
    "- Presence\n",
    "- Exact Duplicates\n",
    "- Near Duplicates\n",
    "\n",
    "Due to the nature of this dataset being primarily numerical data and very minimal categorical data We will skip over the following cleaning steps as they pertain to more to categorical data: \n",
    "\n",
    "- Format\n",
    "- Length\n",
    "- Look-up\n",
    "\n",
    "We will skip over Data Type check and cleaning as well since all the columns are strictly enforced as either int64 or float64 type which cannot be mixed up with any other data type:\n",
    "\n",
    "- Data Type\n"
   ]
  },
  {
   "cell_type": "markdown",
   "id": "cabf3cf0",
   "metadata": {},
   "source": [
    "## Consistency Check\n",
    "\n",
    "We will check the following consistencies: \n",
    "\n",
    "- Garage_Size < Square_Feet\n",
    "    - Pre-requisite step: convert Garage_Size from sqm to sqft"
   ]
  },
  {
   "cell_type": "code",
   "execution_count": 194,
   "id": "f7caf0bd",
   "metadata": {},
   "outputs": [],
   "source": [
    "# Step 1: Convert Garage_Size from sqm to sqft\n",
    "house_df[\"Garage_Size\"] = house_df[\"Garage_Size\"] * 10.7639"
   ]
  },
  {
   "cell_type": "code",
   "execution_count": 195,
   "id": "9789ed39",
   "metadata": {},
   "outputs": [
    {
     "data": {
      "text/html": [
       "<div>\n",
       "<style scoped>\n",
       "    .dataframe tbody tr th:only-of-type {\n",
       "        vertical-align: middle;\n",
       "    }\n",
       "\n",
       "    .dataframe tbody tr th {\n",
       "        vertical-align: top;\n",
       "    }\n",
       "\n",
       "    .dataframe thead th {\n",
       "        text-align: right;\n",
       "    }\n",
       "</style>\n",
       "<table border=\"1\" class=\"dataframe\">\n",
       "  <thead>\n",
       "    <tr style=\"text-align: right;\">\n",
       "      <th></th>\n",
       "      <th>ID</th>\n",
       "      <th>Square_Feet</th>\n",
       "      <th>Num_Bedrooms</th>\n",
       "      <th>Num_Bathrooms</th>\n",
       "      <th>Num_Floors</th>\n",
       "      <th>Year_Built</th>\n",
       "      <th>Has_Garden</th>\n",
       "      <th>Has_Pool</th>\n",
       "      <th>Garage_Size</th>\n",
       "      <th>Location_Score</th>\n",
       "      <th>Distance_to_Center</th>\n",
       "      <th>Price</th>\n",
       "    </tr>\n",
       "  </thead>\n",
       "  <tbody>\n",
       "    <tr>\n",
       "      <th>0</th>\n",
       "      <td>1</td>\n",
       "      <td>143.635030</td>\n",
       "      <td>1</td>\n",
       "      <td>3</td>\n",
       "      <td>3</td>\n",
       "      <td>1967</td>\n",
       "      <td>True</td>\n",
       "      <td>True</td>\n",
       "      <td>516.6672</td>\n",
       "      <td>8.297631</td>\n",
       "      <td>5.935734</td>\n",
       "      <td>602134.816747</td>\n",
       "    </tr>\n",
       "    <tr>\n",
       "      <th>1</th>\n",
       "      <td>2</td>\n",
       "      <td>287.678577</td>\n",
       "      <td>1</td>\n",
       "      <td>2</td>\n",
       "      <td>1</td>\n",
       "      <td>1949</td>\n",
       "      <td>False</td>\n",
       "      <td>True</td>\n",
       "      <td>398.2643</td>\n",
       "      <td>6.061466</td>\n",
       "      <td>10.827392</td>\n",
       "      <td>591425.135386</td>\n",
       "    </tr>\n",
       "    <tr>\n",
       "      <th>4</th>\n",
       "      <td>5</td>\n",
       "      <td>89.004660</td>\n",
       "      <td>4</td>\n",
       "      <td>3</td>\n",
       "      <td>3</td>\n",
       "      <td>1999</td>\n",
       "      <td>True</td>\n",
       "      <td>False</td>\n",
       "      <td>365.9726</td>\n",
       "      <td>1.523278</td>\n",
       "      <td>14.648277</td>\n",
       "      <td>619879.142523</td>\n",
       "    </tr>\n",
       "    <tr>\n",
       "      <th>5</th>\n",
       "      <td>6</td>\n",
       "      <td>88.998630</td>\n",
       "      <td>5</td>\n",
       "      <td>3</td>\n",
       "      <td>2</td>\n",
       "      <td>1959</td>\n",
       "      <td>True</td>\n",
       "      <td>True</td>\n",
       "      <td>387.5004</td>\n",
       "      <td>8.994552</td>\n",
       "      <td>17.633250</td>\n",
       "      <td>670386.804433</td>\n",
       "    </tr>\n",
       "    <tr>\n",
       "      <th>6</th>\n",
       "      <td>7</td>\n",
       "      <td>64.520903</td>\n",
       "      <td>4</td>\n",
       "      <td>3</td>\n",
       "      <td>1</td>\n",
       "      <td>1938</td>\n",
       "      <td>False</td>\n",
       "      <td>True</td>\n",
       "      <td>344.4448</td>\n",
       "      <td>7.101354</td>\n",
       "      <td>2.429908</td>\n",
       "      <td>523827.125601</td>\n",
       "    </tr>\n",
       "    <tr>\n",
       "      <th>...</th>\n",
       "      <td>...</td>\n",
       "      <td>...</td>\n",
       "      <td>...</td>\n",
       "      <td>...</td>\n",
       "      <td>...</td>\n",
       "      <td>...</td>\n",
       "      <td>...</td>\n",
       "      <td>...</td>\n",
       "      <td>...</td>\n",
       "      <td>...</td>\n",
       "      <td>...</td>\n",
       "      <td>...</td>\n",
       "    </tr>\n",
       "    <tr>\n",
       "      <th>494</th>\n",
       "      <td>495</td>\n",
       "      <td>165.924601</td>\n",
       "      <td>4</td>\n",
       "      <td>3</td>\n",
       "      <td>1</td>\n",
       "      <td>1935</td>\n",
       "      <td>True</td>\n",
       "      <td>True</td>\n",
       "      <td>236.8058</td>\n",
       "      <td>4.893764</td>\n",
       "      <td>15.889616</td>\n",
       "      <td>622815.455423</td>\n",
       "    </tr>\n",
       "    <tr>\n",
       "      <th>495</th>\n",
       "      <td>496</td>\n",
       "      <td>138.338057</td>\n",
       "      <td>2</td>\n",
       "      <td>2</td>\n",
       "      <td>2</td>\n",
       "      <td>1967</td>\n",
       "      <td>True</td>\n",
       "      <td>False</td>\n",
       "      <td>172.2224</td>\n",
       "      <td>4.296086</td>\n",
       "      <td>5.562583</td>\n",
       "      <td>488496.350722</td>\n",
       "    </tr>\n",
       "    <tr>\n",
       "      <th>496</th>\n",
       "      <td>497</td>\n",
       "      <td>195.914028</td>\n",
       "      <td>2</td>\n",
       "      <td>3</td>\n",
       "      <td>1</td>\n",
       "      <td>1977</td>\n",
       "      <td>False</td>\n",
       "      <td>True</td>\n",
       "      <td>484.3755</td>\n",
       "      <td>7.406261</td>\n",
       "      <td>2.845105</td>\n",
       "      <td>657736.921717</td>\n",
       "    </tr>\n",
       "    <tr>\n",
       "      <th>497</th>\n",
       "      <td>498</td>\n",
       "      <td>69.433659</td>\n",
       "      <td>1</td>\n",
       "      <td>1</td>\n",
       "      <td>2</td>\n",
       "      <td>2004</td>\n",
       "      <td>False</td>\n",
       "      <td>False</td>\n",
       "      <td>193.7502</td>\n",
       "      <td>8.629724</td>\n",
       "      <td>6.263264</td>\n",
       "      <td>405324.950201</td>\n",
       "    </tr>\n",
       "    <tr>\n",
       "      <th>498</th>\n",
       "      <td>499</td>\n",
       "      <td>293.598702</td>\n",
       "      <td>5</td>\n",
       "      <td>1</td>\n",
       "      <td>3</td>\n",
       "      <td>1940</td>\n",
       "      <td>True</td>\n",
       "      <td>False</td>\n",
       "      <td>441.3199</td>\n",
       "      <td>5.318891</td>\n",
       "      <td>16.990684</td>\n",
       "      <td>773035.968028</td>\n",
       "    </tr>\n",
       "  </tbody>\n",
       "</table>\n",
       "<p>409 rows × 12 columns</p>\n",
       "</div>"
      ],
      "text/plain": [
       "      ID  Square_Feet  Num_Bedrooms  Num_Bathrooms  Num_Floors  Year_Built  \\\n",
       "0      1   143.635030             1              3           3        1967   \n",
       "1      2   287.678577             1              2           1        1949   \n",
       "4      5    89.004660             4              3           3        1999   \n",
       "5      6    88.998630             5              3           2        1959   \n",
       "6      7    64.520903             4              3           1        1938   \n",
       "..   ...          ...           ...            ...         ...         ...   \n",
       "494  495   165.924601             4              3           1        1935   \n",
       "495  496   138.338057             2              2           2        1967   \n",
       "496  497   195.914028             2              3           1        1977   \n",
       "497  498    69.433659             1              1           2        2004   \n",
       "498  499   293.598702             5              1           3        1940   \n",
       "\n",
       "     Has_Garden  Has_Pool  Garage_Size  Location_Score  Distance_to_Center  \\\n",
       "0          True      True     516.6672        8.297631            5.935734   \n",
       "1         False      True     398.2643        6.061466           10.827392   \n",
       "4          True     False     365.9726        1.523278           14.648277   \n",
       "5          True      True     387.5004        8.994552           17.633250   \n",
       "6         False      True     344.4448        7.101354            2.429908   \n",
       "..          ...       ...          ...             ...                 ...   \n",
       "494        True      True     236.8058        4.893764           15.889616   \n",
       "495        True     False     172.2224        4.296086            5.562583   \n",
       "496       False      True     484.3755        7.406261            2.845105   \n",
       "497       False     False     193.7502        8.629724            6.263264   \n",
       "498        True     False     441.3199        5.318891           16.990684   \n",
       "\n",
       "             Price  \n",
       "0    602134.816747  \n",
       "1    591425.135386  \n",
       "4    619879.142523  \n",
       "5    670386.804433  \n",
       "6    523827.125601  \n",
       "..             ...  \n",
       "494  622815.455423  \n",
       "495  488496.350722  \n",
       "496  657736.921717  \n",
       "497  405324.950201  \n",
       "498  773035.968028  \n",
       "\n",
       "[409 rows x 12 columns]"
      ]
     },
     "execution_count": 195,
     "metadata": {},
     "output_type": "execute_result"
    }
   ],
   "source": [
    "# Step 2: Consistency check: Garage_Size in sqft should be less than Square_Feet\n",
    "invalid_garages = house_df[house_df[\"Garage_Size\"] >= house_df[\"Square_Feet\"]]\n",
    "\n",
    "# Step 3: Display the rows that violate the condition\n",
    "invalid_garages"
   ]
  },
  {
   "cell_type": "markdown",
   "id": "e90438a5",
   "metadata": {},
   "source": [
    "### Inconsistencies found:\n",
    "409 rows were found to have a larger garage than home. This seemed like a clear mixup as this makes up for approximately 82% of the dataset. Rows where the garage size is greater than the square feet of the home, these values will be swapped."
   ]
  },
  {
   "cell_type": "code",
   "execution_count": 196,
   "id": "0db77aac",
   "metadata": {},
   "outputs": [],
   "source": [
    "# Identify where Garage_Size is greater than Square_Feet\n",
    "swap_condition = house_df[\"Garage_Size\"] > house_df[\"Square_Feet\"]\n",
    "\n",
    "# Perform the swap PROPERLY\n",
    "house_df.loc[swap_condition, [\"Square_Feet\", \"Garage_Size\"]] = (house_df.loc[swap_condition, [\"Garage_Size\", \"Square_Feet\"]].values)"
   ]
  },
  {
   "cell_type": "markdown",
   "id": "86fe7a68",
   "metadata": {},
   "source": [
    "Verify the swap was completed correctly. There should be no rows such that Square_Feet < Garage_Size.\n",
    "\n",
    "Perform a check:"
   ]
  },
  {
   "cell_type": "code",
   "execution_count": 197,
   "id": "d5e468ad",
   "metadata": {},
   "outputs": [
    {
     "name": "stdout",
     "output_type": "stream",
     "text": [
      "There are 0 rows such that Square_Feet < Garage_Size\n",
      "View some samples:\n"
     ]
    },
    {
     "data": {
      "text/html": [
       "<div>\n",
       "<style scoped>\n",
       "    .dataframe tbody tr th:only-of-type {\n",
       "        vertical-align: middle;\n",
       "    }\n",
       "\n",
       "    .dataframe tbody tr th {\n",
       "        vertical-align: top;\n",
       "    }\n",
       "\n",
       "    .dataframe thead th {\n",
       "        text-align: right;\n",
       "    }\n",
       "</style>\n",
       "<table border=\"1\" class=\"dataframe\">\n",
       "  <thead>\n",
       "    <tr style=\"text-align: right;\">\n",
       "      <th></th>\n",
       "      <th>ID</th>\n",
       "      <th>Square_Feet</th>\n",
       "      <th>Num_Bedrooms</th>\n",
       "      <th>Num_Bathrooms</th>\n",
       "      <th>Num_Floors</th>\n",
       "      <th>Year_Built</th>\n",
       "      <th>Has_Garden</th>\n",
       "      <th>Has_Pool</th>\n",
       "      <th>Garage_Size</th>\n",
       "      <th>Location_Score</th>\n",
       "      <th>Distance_to_Center</th>\n",
       "      <th>Price</th>\n",
       "    </tr>\n",
       "  </thead>\n",
       "  <tbody>\n",
       "  </tbody>\n",
       "</table>\n",
       "</div>"
      ],
      "text/plain": [
       "Empty DataFrame\n",
       "Columns: [ID, Square_Feet, Num_Bedrooms, Num_Bathrooms, Num_Floors, Year_Built, Has_Garden, Has_Pool, Garage_Size, Location_Score, Distance_to_Center, Price]\n",
       "Index: []"
      ]
     },
     "execution_count": 197,
     "metadata": {},
     "output_type": "execute_result"
    }
   ],
   "source": [
    "# Identify where Garage_Size is greater than Square_Feet\n",
    "swap_condition =  house_df[\"Square_Feet\"] < house_df[\"Garage_Size\"]\n",
    "\n",
    "# Display rows where the condition is True (Square_Feet < Garage_Size)\n",
    "inconsistent_rows = house_df[swap_condition]\n",
    "\n",
    "# Print the problematic rows\n",
    "num_inconsistent = len(inconsistent_rows)\n",
    "\n",
    "print(f\"There are {num_inconsistent} rows such that Square_Feet < Garage_Size\")\n",
    "print(\"View some samples:\")\n",
    "inconsistent_rows"
   ]
  },
  {
   "cell_type": "markdown",
   "id": "7f395141",
   "metadata": {},
   "source": [
    "## Range:\n",
    "\n",
    "Given that majority of the values are int64 or float64, a range check is valuable.\n",
    "\n",
    "### Perform the range check:"
   ]
  },
  {
   "cell_type": "code",
   "execution_count": 198,
   "id": "6fcc993c",
   "metadata": {},
   "outputs": [
    {
     "data": {
      "text/html": [
       "<div>\n",
       "<style scoped>\n",
       "    .dataframe tbody tr th:only-of-type {\n",
       "        vertical-align: middle;\n",
       "    }\n",
       "\n",
       "    .dataframe tbody tr th {\n",
       "        vertical-align: top;\n",
       "    }\n",
       "\n",
       "    .dataframe thead th {\n",
       "        text-align: right;\n",
       "    }\n",
       "</style>\n",
       "<table border=\"1\" class=\"dataframe\">\n",
       "  <thead>\n",
       "    <tr style=\"text-align: right;\">\n",
       "      <th></th>\n",
       "      <th>ID</th>\n",
       "      <th>Square_Feet</th>\n",
       "      <th>Num_Bedrooms</th>\n",
       "      <th>Num_Bathrooms</th>\n",
       "      <th>Num_Floors</th>\n",
       "      <th>Year_Built</th>\n",
       "      <th>Has_Garden</th>\n",
       "      <th>Has_Pool</th>\n",
       "      <th>Garage_Size</th>\n",
       "      <th>Location_Score</th>\n",
       "      <th>Distance_to_Center</th>\n",
       "      <th>Price</th>\n",
       "    </tr>\n",
       "  </thead>\n",
       "  <tbody>\n",
       "  </tbody>\n",
       "</table>\n",
       "</div>"
      ],
      "text/plain": [
       "Empty DataFrame\n",
       "Columns: [ID, Square_Feet, Num_Bedrooms, Num_Bathrooms, Num_Floors, Year_Built, Has_Garden, Has_Pool, Garage_Size, Location_Score, Distance_to_Center, Price]\n",
       "Index: []"
      ]
     },
     "execution_count": 198,
     "metadata": {},
     "output_type": "execute_result"
    }
   ],
   "source": [
    "#Range Filters\n",
    "min_sqft = 46.0\n",
    "min_bed = 1\n",
    "min_bath = 1\n",
    "min_floors = 1\n",
    "year_built_range = range(1600, 2025)\n",
    "min_garage_size = 16.7225\n",
    "location_score_range = (0,10)\n",
    "min_dist_ctr = 0\n",
    "min_price = 0\n",
    "\n",
    "# Create a mask for valid rows\n",
    "valid_mask = (\n",
    "    (house_df[\"Square_Feet\"] >= min_sqft) &\n",
    "    (house_df[\"Num_Bedrooms\"] >= min_bed) &\n",
    "    (house_df[\"Num_Bathrooms\"] >= min_bath) &\n",
    "    (house_df[\"Num_Floors\"] >= min_floors) &\n",
    "    (house_df[\"Year_Built\"].isin(year_built_range)) &\n",
    "    (house_df[\"Garage_Size\"] >= min_garage_size) &\n",
    "    (house_df[\"Location_Score\"].between(*location_score_range)) &\n",
    "    (house_df[\"Distance_to_Center\"] >= min_dist_ctr) &\n",
    "    (house_df[\"Price\"] >= min_price)\n",
    ")\n",
    "\n",
    "# Get the problematic rows\n",
    "problematic_rows = house_df[~valid_mask]  # Invert mask to get failing rows\n",
    "\n",
    "# Display the problematic rows (There should be none)\n",
    "problematic_rows.head()"
   ]
  },
  {
   "cell_type": "code",
   "execution_count": 199,
   "id": "60ca0911",
   "metadata": {},
   "outputs": [
    {
     "name": "stdout",
     "output_type": "stream",
     "text": [
      "There are 0 rows with invalid ranges\n",
      "Invalid garage values: []\n"
     ]
    }
   ],
   "source": [
    "num_invalid_rows_range = len(problematic_rows[\"Garage_Size\"])\n",
    "invalid_garage_vals = problematic_rows[\"Garage_Size\"].unique()\n",
    "\n",
    "print(f\"There are {num_invalid_rows_range} rows with invalid ranges\")\n",
    "print(f\"Invalid garage values: {invalid_garage_vals}\")"
   ]
  },
  {
   "cell_type": "markdown",
   "id": "520b4e8d",
   "metadata": {},
   "source": [
    "#### Invalid Garage Sizes\n",
    "\n",
    "By logic and my research, the minimum garage size is 10x8 feet or 16.7725 Square feet. We will imputate the minumum garage size to such records"
   ]
  },
  {
   "cell_type": "code",
   "execution_count": 200,
   "id": "28fe9460",
   "metadata": {},
   "outputs": [],
   "source": [
    "#Convert the Garage_Size column to a float64 type\n",
    "house_df[\"Garage_Size\"] = house_df[\"Garage_Size\"].astype(float)"
   ]
  },
  {
   "cell_type": "code",
   "execution_count": 201,
   "id": "3b69f94d",
   "metadata": {},
   "outputs": [],
   "source": [
    "# Impute the invalid garage sizes with the minimum size\n",
    "house_df[\"Garage_Size\"] = house_df[\"Garage_Size\"].apply(lambda x: max(x, 16.7225))"
   ]
  },
  {
   "cell_type": "markdown",
   "id": "9a4d49e4",
   "metadata": {},
   "source": [
    "#### Successful Garage_Size Imputation\n",
    "There should be no more range errors upon the Garage_Size imputation"
   ]
  },
  {
   "cell_type": "markdown",
   "id": "5cc9fc4a",
   "metadata": {},
   "source": [
    "## Uniqueness Check:\n",
    "Only the ID Column needs to have unique values so we will verify that by ensuring the number of unique id values is the same as the length of the entire dataset. This is becsause there is a 1 to 1 relationship between the ID and each row."
   ]
  },
  {
   "cell_type": "code",
   "execution_count": 202,
   "id": "a5257966",
   "metadata": {},
   "outputs": [
    {
     "data": {
      "text/plain": [
       "True"
      ]
     },
     "execution_count": 202,
     "metadata": {},
     "output_type": "execute_result"
    }
   ],
   "source": [
    "len(house_df['ID'].unique()) == len(house_df)"
   ]
  },
  {
   "cell_type": "markdown",
   "id": "12c75a42",
   "metadata": {},
   "source": [
    "## Presence Check:\n",
    "We will check for null values in each column. Upon performing the check there are in fact none."
   ]
  },
  {
   "cell_type": "code",
   "execution_count": 203,
   "id": "6ef03d35",
   "metadata": {},
   "outputs": [
    {
     "name": "stdout",
     "output_type": "stream",
     "text": [
      "ID                    0\n",
      "Square_Feet           0\n",
      "Num_Bedrooms          0\n",
      "Num_Bathrooms         0\n",
      "Num_Floors            0\n",
      "Year_Built            0\n",
      "Has_Garden            0\n",
      "Has_Pool              0\n",
      "Garage_Size           0\n",
      "Location_Score        0\n",
      "Distance_to_Center    0\n",
      "Price                 0\n",
      "dtype: int64\n"
     ]
    }
   ],
   "source": [
    "print(house_df.isna().sum())"
   ]
  },
  {
   "cell_type": "markdown",
   "id": "9b549845",
   "metadata": {},
   "source": [
    "No Null values"
   ]
  },
  {
   "cell_type": "markdown",
   "id": "e9aa517c",
   "metadata": {},
   "source": [
    "## Duplicate Check"
   ]
  },
  {
   "cell_type": "code",
   "execution_count": 204,
   "id": "b947d532",
   "metadata": {},
   "outputs": [
    {
     "data": {
      "text/html": [
       "<div>\n",
       "<style scoped>\n",
       "    .dataframe tbody tr th:only-of-type {\n",
       "        vertical-align: middle;\n",
       "    }\n",
       "\n",
       "    .dataframe tbody tr th {\n",
       "        vertical-align: top;\n",
       "    }\n",
       "\n",
       "    .dataframe thead th {\n",
       "        text-align: right;\n",
       "    }\n",
       "</style>\n",
       "<table border=\"1\" class=\"dataframe\">\n",
       "  <thead>\n",
       "    <tr style=\"text-align: right;\">\n",
       "      <th></th>\n",
       "      <th>ID</th>\n",
       "      <th>Square_Feet</th>\n",
       "      <th>Num_Bedrooms</th>\n",
       "      <th>Num_Bathrooms</th>\n",
       "      <th>Num_Floors</th>\n",
       "      <th>Year_Built</th>\n",
       "      <th>Has_Garden</th>\n",
       "      <th>Has_Pool</th>\n",
       "      <th>Garage_Size</th>\n",
       "      <th>Location_Score</th>\n",
       "      <th>Distance_to_Center</th>\n",
       "      <th>Price</th>\n",
       "    </tr>\n",
       "  </thead>\n",
       "  <tbody>\n",
       "  </tbody>\n",
       "</table>\n",
       "</div>"
      ],
      "text/plain": [
       "Empty DataFrame\n",
       "Columns: [ID, Square_Feet, Num_Bedrooms, Num_Bathrooms, Num_Floors, Year_Built, Has_Garden, Has_Pool, Garage_Size, Location_Score, Distance_to_Center, Price]\n",
       "Index: []"
      ]
     },
     "execution_count": 204,
     "metadata": {},
     "output_type": "execute_result"
    }
   ],
   "source": [
    "duplicates = house_df[house_df.duplicated()]\n",
    "\n",
    "duplicates"
   ]
  },
  {
   "cell_type": "markdown",
   "id": "b60313ff",
   "metadata": {},
   "source": [
    "No duplicates found"
   ]
  },
  {
   "cell_type": "markdown",
   "id": "db3e9ac5",
   "metadata": {},
   "source": [
    "## Near Duplicate Check\n"
   ]
  },
  {
   "cell_type": "code",
   "execution_count": 205,
   "id": "7b47059c",
   "metadata": {},
   "outputs": [
    {
     "data": {
      "text/html": [
       "<div>\n",
       "<style scoped>\n",
       "    .dataframe tbody tr th:only-of-type {\n",
       "        vertical-align: middle;\n",
       "    }\n",
       "\n",
       "    .dataframe tbody tr th {\n",
       "        vertical-align: top;\n",
       "    }\n",
       "\n",
       "    .dataframe thead th {\n",
       "        text-align: right;\n",
       "    }\n",
       "</style>\n",
       "<table border=\"1\" class=\"dataframe\">\n",
       "  <thead>\n",
       "    <tr style=\"text-align: right;\">\n",
       "      <th></th>\n",
       "      <th>ID</th>\n",
       "      <th>Square_Feet</th>\n",
       "      <th>Num_Bedrooms</th>\n",
       "      <th>Num_Bathrooms</th>\n",
       "      <th>Num_Floors</th>\n",
       "      <th>Year_Built</th>\n",
       "      <th>Has_Garden</th>\n",
       "      <th>Has_Pool</th>\n",
       "      <th>Garage_Size</th>\n",
       "      <th>Location_Score</th>\n",
       "      <th>Distance_to_Center</th>\n",
       "      <th>Price</th>\n",
       "    </tr>\n",
       "  </thead>\n",
       "  <tbody>\n",
       "  </tbody>\n",
       "</table>\n",
       "</div>"
      ],
      "text/plain": [
       "Empty DataFrame\n",
       "Columns: [ID, Square_Feet, Num_Bedrooms, Num_Bathrooms, Num_Floors, Year_Built, Has_Garden, Has_Pool, Garage_Size, Location_Score, Distance_to_Center, Price]\n",
       "Index: []"
      ]
     },
     "execution_count": 205,
     "metadata": {},
     "output_type": "execute_result"
    }
   ],
   "source": [
    "house_df_rounded = house_df.copy()\n",
    "\n",
    "# Round numerical columns to a specific number of decimal places\n",
    "numeric_columns = ['Square_Feet', 'Num_Bedrooms', 'Num_Bathrooms', 'Num_Floors', 'Year_Built', 'Garage_Size', 'Location_Score', 'Distance_to_Center', 'Price']\n",
    "house_df_rounded[numeric_columns] = house_df[numeric_columns].round(2)\n",
    "\n",
    "# Now check for duplicates in the rounded dataset\n",
    "near_duplicates = house_df_rounded[house_df_rounded.duplicated()]\n",
    "near_duplicates"
   ]
  },
  {
   "cell_type": "markdown",
   "id": "72b6c438",
   "metadata": {},
   "source": [
    "No near duplicates identified"
   ]
  },
  {
   "cell_type": "markdown",
   "id": "46b0ca68",
   "metadata": {},
   "source": [
    "# 2) There are no "
   ]
  },
  {
   "cell_type": "code",
   "execution_count": 206,
   "id": "5c965921",
   "metadata": {},
   "outputs": [
    {
     "name": "stdout",
     "output_type": "stream",
     "text": [
      "<class 'pandas.core.frame.DataFrame'>\n",
      "RangeIndex: 500 entries, 0 to 499\n",
      "Data columns (total 12 columns):\n",
      " #   Column              Non-Null Count  Dtype  \n",
      "---  ------              --------------  -----  \n",
      " 0   ID                  500 non-null    int64  \n",
      " 1   Square_Feet         500 non-null    float64\n",
      " 2   Num_Bedrooms        500 non-null    int64  \n",
      " 3   Num_Bathrooms       500 non-null    int64  \n",
      " 4   Num_Floors          500 non-null    int64  \n",
      " 5   Year_Built          500 non-null    int64  \n",
      " 6   Has_Garden          500 non-null    bool   \n",
      " 7   Has_Pool            500 non-null    bool   \n",
      " 8   Garage_Size         500 non-null    float64\n",
      " 9   Location_Score      500 non-null    float64\n",
      " 10  Distance_to_Center  500 non-null    float64\n",
      " 11  Price               500 non-null    float64\n",
      "dtypes: bool(2), float64(5), int64(5)\n",
      "memory usage: 40.2 KB\n",
      "None\n"
     ]
    }
   ],
   "source": [
    "print(house_df.info())"
   ]
  },
  {
   "cell_type": "markdown",
   "id": "de7e0d43",
   "metadata": {},
   "source": [
    "# Sources:\n",
    "Smallest Possible House Size: https://www.greatlakestinyhome.com/worlds-smallest-house/#:~:text=Keret%20House%2C%20Poland&text=It%20boasts%20a%20world%20record,story%20on%20the%20first%20floor.\n",
    "\n",
    "Oldest built home: https://geojango.com/blogs/explore-your-world/oldest-homes-america?srsltid=AfmBOoq0J_96cQgna1C_MJVIoC61INx0zlf6BAcT8YgHT8LzfNNKZdNC\n",
    "\n",
    "Minumum Garage Size: https://shedsunlimited.net/blog/how-large-is-a-one-car-garage/?srsltid=AfmBOoq7cjf-SXORwozvt1vRW4ow4GMjwQg8tTLz0ldzLrky1VLNK3zc"
   ]
  }
 ],
 "metadata": {
  "kernelspec": {
   "display_name": "Python 3 (ipykernel)",
   "language": "python",
   "name": "python3"
  },
  "language_info": {
   "codemirror_mode": {
    "name": "ipython",
    "version": 3
   },
   "file_extension": ".py",
   "mimetype": "text/x-python",
   "name": "python",
   "nbconvert_exporter": "python",
   "pygments_lexer": "ipython3",
   "version": "3.10.9"
  }
 },
 "nbformat": 4,
 "nbformat_minor": 5
}
