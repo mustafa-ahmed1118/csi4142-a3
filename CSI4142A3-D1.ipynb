{
 "cells": [
  {
   "cell_type": "markdown",
   "id": "fea29641",
   "metadata": {},
   "source": [
    "# CSI 4142 Assignment 3: Dataset 1: Housing Prices"
   ]
  },
  {
   "cell_type": "markdown",
   "id": "2482d402",
   "metadata": {},
   "source": [
    "## Group Info:\n",
    "**Group #:** 120\n",
    "\n",
    "**<u>Group Members</u>**<br>\n",
    "Aydin Yalcinkaya 300238613<br>\n",
    "Mustafa Ahmed 300242013<br>"
   ]
  },
  {
   "cell_type": "markdown",
   "id": "726e1559",
   "metadata": {},
   "source": [
    "# Imports and Installations\n",
    "Before getting started we must perform a few installations and library imports.\n",
    "\n",
    "Run the following installations:"
   ]
  },
  {
   "cell_type": "code",
   "execution_count": 6,
   "id": "c8c76186",
   "metadata": {},
   "outputs": [],
   "source": [
    "#imports\n",
    "import pandas as pd\n",
    "import os.path"
   ]
  },
  {
   "cell_type": "markdown",
   "id": "65bdb870",
   "metadata": {},
   "source": [
    "## Report Description\n",
    "\n",
    "The purpose of this report is to practice a predictive analysis study. The primary methodology is using Lineaer Regression."
   ]
  },
  {
   "cell_type": "markdown",
   "id": "2be535cf",
   "metadata": {},
   "source": [
    "## Housing Prices Regression Dataset\n",
    "Author: Den Kuznetz\n",
    "\n",
    "Link to the dataset: https://www.kaggle.com/datasets/denkuznetz/housing-prices-regression\n",
    "\n",
    "Dataset use-case: dataset prepared for creating a predictive model.\n",
    "\n",
    "### How to download:\n",
    "Run the following command in the same directory as the notebook:"
   ]
  },
  {
   "cell_type": "code",
   "execution_count": 4,
   "id": "ce284d77",
   "metadata": {},
   "outputs": [
    {
     "name": "stdout",
     "output_type": "stream",
     "text": [
      "rm: housing-prices-regression.zip: No such file or directory\n",
      "  % Total    % Received % Xferd  Average Speed   Time    Time     Time  Current\n",
      "                                 Dload  Upload   Total   Spent    Left  Speed\n",
      "  0     0    0     0    0     0      0      0 --:--:-- --:--:-- --:--:--     0\n",
      "100 24182  100 24182    0     0  71881      0 --:--:-- --:--:-- --:--:-- 71881\n",
      "Archive:  housing-prices-regression.zip\n",
      "  inflating: real_estate_dataset.csv  \n"
     ]
    }
   ],
   "source": [
    "! rm housing-prices-regression.zip real_estate_dataset.csv\n",
    "! curl -L -o housing-prices-regression.zip\\\n",
    "  https://www.kaggle.com/api/v1/datasets/download/denkuznetz/housing-prices-regression\\\n",
    "    && unzip housing-prices-regression.zip\n",
    "! rm housing-prices-regression.zip"
   ]
  },
  {
   "cell_type": "markdown",
   "id": "fe982078",
   "metadata": {},
   "source": [
    "### Initial data output command:"
   ]
  },
  {
   "cell_type": "code",
   "execution_count": 7,
   "id": "fe280efe",
   "metadata": {},
   "outputs": [
    {
     "name": "stdout",
     "output_type": "stream",
     "text": [
      "<class 'pandas.core.frame.DataFrame'>\n",
      "RangeIndex: 500 entries, 0 to 499\n",
      "Data columns (total 12 columns):\n",
      " #   Column              Non-Null Count  Dtype  \n",
      "---  ------              --------------  -----  \n",
      " 0   ID                  500 non-null    int64  \n",
      " 1   Square_Feet         500 non-null    float64\n",
      " 2   Num_Bedrooms        500 non-null    int64  \n",
      " 3   Num_Bathrooms       500 non-null    int64  \n",
      " 4   Num_Floors          500 non-null    int64  \n",
      " 5   Year_Built          500 non-null    int64  \n",
      " 6   Has_Garden          500 non-null    int64  \n",
      " 7   Has_Pool            500 non-null    int64  \n",
      " 8   Garage_Size         500 non-null    int64  \n",
      " 9   Location_Score      500 non-null    float64\n",
      " 10  Distance_to_Center  500 non-null    float64\n",
      " 11  Price               500 non-null    float64\n",
      "dtypes: float64(4), int64(8)\n",
      "memory usage: 47.0 KB\n",
      "None\n"
     ]
    }
   ],
   "source": [
    "if not os.path.exists('real_estate_dataset.csv'):\n",
    "    raise Exception('Please download and extract the dataset with the command above.')\n",
    "\n",
    "netflix_data = pd.read_csv('real_estate_dataset.csv')\n",
    "print(netflix_data.info())"
   ]
  },
  {
   "cell_type": "code",
   "execution_count": null,
   "id": "66632f2e",
   "metadata": {},
   "outputs": [],
   "source": []
  }
 ],
 "metadata": {
  "kernelspec": {
   "display_name": "Python 3 (ipykernel)",
   "language": "python",
   "name": "python3"
  },
  "language_info": {
   "codemirror_mode": {
    "name": "ipython",
    "version": 3
   },
   "file_extension": ".py",
   "mimetype": "text/x-python",
   "name": "python",
   "nbconvert_exporter": "python",
   "pygments_lexer": "ipython3",
   "version": "3.10.9"
  }
 },
 "nbformat": 4,
 "nbformat_minor": 5
}
