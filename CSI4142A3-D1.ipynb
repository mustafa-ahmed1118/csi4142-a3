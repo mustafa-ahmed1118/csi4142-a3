{
 "cells": [
  {
   "cell_type": "markdown",
   "id": "5f4cc83f",
   "metadata": {},
   "source": [
    "# CSI 4142 Assignment 3: Dataset 1: Housing Prices"
   ]
  },
  {
   "cell_type": "markdown",
   "id": "e1f1005c",
   "metadata": {},
   "source": [
    "## Group Info:\n",
    "**Group #:** 120\n",
    "\n",
    "**<u>Group Members</u>**<br>\n",
    "Aydin Yalcinkaya 300238613<br>\n",
    "Mustafa Ahmed 300242013<br>"
   ]
  },
  {
   "cell_type": "markdown",
   "id": "1205f38d",
   "metadata": {},
   "source": [
    "# Imports and Installations\n",
    "Before getting started we must perform a few installations and library imports.\n",
    "\n",
    "Run the following installations:"
   ]
  },
  {
   "cell_type": "code",
   "execution_count": 129,
   "id": "be1f941b",
   "metadata": {},
   "outputs": [],
   "source": [
    "#imports\n",
    "import pandas as pd\n",
    "import os.path\n",
    "from datetime import datetime\n",
    "import re\n",
    "import numpy as np\n",
    "from IPython.display import display\n",
    "from rapidfuzz import fuzz\n",
    "from rapidfuzz import process\n",
    "from sklearn.neighbors import LocalOutlierFactor"
   ]
  },
  {
   "cell_type": "markdown",
   "id": "418c0177",
   "metadata": {},
   "source": [
    "## Report Description\n",
    "\n",
    "The purpose of this report is to practice a predictive analysis study. The primary methodology is using Lineaer Regression."
   ]
  },
  {
   "cell_type": "markdown",
   "id": "f6b8ccd0",
   "metadata": {},
   "source": [
    "## Housing Prices Regression Dataset\n",
    "Author: Den Kuznetz\n",
    "\n",
    "Link to the dataset: https://www.kaggle.com/datasets/denkuznetz/housing-prices-regression\n",
    "\n",
    "Dataset use-case: dataset prepared for creating a predictive model.\n",
    "\n",
    "### How to download:\n",
    "Run the following command in the same directory as the notebook:"
   ]
  },
  {
   "cell_type": "code",
   "execution_count": 130,
   "id": "9edac74b",
   "metadata": {},
   "outputs": [
    {
     "name": "stdout",
     "output_type": "stream",
     "text": [
      "rm: housing-prices-regression.zip: No such file or directory\n",
      "  % Total    % Received % Xferd  Average Speed   Time    Time     Time  Current\n",
      "                                 Dload  Upload   Total   Spent    Left  Speed\n",
      "  0     0    0     0    0     0      0      0 --:--:-- --:--:-- --:--:--     0\n",
      "100 24182  100 24182    0     0  61871      0 --:--:-- --:--:-- --:--:-- 61871\n",
      "Archive:  housing-prices-regression.zip\n",
      "  inflating: real_estate_dataset.csv  \n"
     ]
    }
   ],
   "source": [
    "! rm housing-prices-regression.zip real_estate_dataset.csv\n",
    "! curl -L -o housing-prices-regression.zip\\\n",
    "  https://www.kaggle.com/api/v1/datasets/download/denkuznetz/housing-prices-regression\\\n",
    "    && unzip housing-prices-regression.zip\n",
    "! rm housing-prices-regression.zip"
   ]
  },
  {
   "cell_type": "markdown",
   "id": "c63aa0dc",
   "metadata": {},
   "source": [
    "### Initial data output command:"
   ]
  },
  {
   "cell_type": "code",
   "execution_count": 131,
   "id": "873ac040",
   "metadata": {},
   "outputs": [
    {
     "name": "stdout",
     "output_type": "stream",
     "text": [
      "<class 'pandas.core.frame.DataFrame'>\n",
      "RangeIndex: 500 entries, 0 to 499\n",
      "Data columns (total 12 columns):\n",
      " #   Column              Non-Null Count  Dtype  \n",
      "---  ------              --------------  -----  \n",
      " 0   ID                  500 non-null    int64  \n",
      " 1   Square_Feet         500 non-null    float64\n",
      " 2   Num_Bedrooms        500 non-null    int64  \n",
      " 3   Num_Bathrooms       500 non-null    int64  \n",
      " 4   Num_Floors          500 non-null    int64  \n",
      " 5   Year_Built          500 non-null    int64  \n",
      " 6   Has_Garden          500 non-null    int64  \n",
      " 7   Has_Pool            500 non-null    int64  \n",
      " 8   Garage_Size         500 non-null    int64  \n",
      " 9   Location_Score      500 non-null    float64\n",
      " 10  Distance_to_Center  500 non-null    float64\n",
      " 11  Price               500 non-null    float64\n",
      "dtypes: float64(4), int64(8)\n",
      "memory usage: 47.0 KB\n",
      "None\n"
     ]
    }
   ],
   "source": [
    "if not os.path.exists('real_estate_dataset.csv'):\n",
    "    raise Exception('Please download and extract the dataset with the command above.')\n",
    "house_df = pd.read_csv('real_estate_dataset.csv')\n",
    "print(house_df.info())"
   ]
  },
  {
   "cell_type": "code",
   "execution_count": 132,
   "id": "9874a0fa",
   "metadata": {},
   "outputs": [
    {
     "data": {
      "text/plain": [
       "1957.604"
      ]
     },
     "execution_count": 132,
     "metadata": {},
     "output_type": "execute_result"
    }
   ],
   "source": [
    "house_df[\"Year_Built\"].mean()"
   ]
  },
  {
   "cell_type": "markdown",
   "id": "0753c84f",
   "metadata": {},
   "source": [
    "# 1) Data Cleaning:\n",
    "For our data cleaning we will perform the following cleaning checks followed by the relevant imputation/cleaning methods:\n",
    "\n",
    "- Consistency\n",
    "- Range\n",
    "- Uniqueness\n",
    "- Presence\n",
    "- Exact Duplicates\n",
    "- Near Duplicates\n",
    "\n",
    "Due to the nature of this dataset being primarily numerical data and very minimal categorical data We will skip over the following cleaning steps as they pertain to more to categorical data: \n",
    "\n",
    "- Format\n",
    "- Length\n",
    "- Look-up\n",
    "\n",
    "We will skip over Data Type check and cleaning as well since all the columns are strictly enforced as either int64 or float64 type which cannot be mixed up with any other data type:\n",
    "\n",
    "- Data Type\n"
   ]
  },
  {
   "cell_type": "markdown",
   "id": "cabf3cf0",
   "metadata": {},
   "source": [
    "## Consistency Check\n",
    "\n",
    "We will check the following consistencies: \n",
    "\n",
    "- Garage_Size < Square_Feet\n",
    "    - Pre-requisite step: convert Garage_Size from sqm to sqft"
   ]
  },
  {
   "cell_type": "code",
   "execution_count": 133,
   "id": "f7caf0bd",
   "metadata": {},
   "outputs": [],
   "source": [
    "# Step 1: Convert Garage_Size from sqm to sqft\n",
    "house_df[\"Garage_Size\"] = house_df[\"Garage_Size\"] * 10.7639"
   ]
  },
  {
   "cell_type": "code",
   "execution_count": 134,
   "id": "9789ed39",
   "metadata": {},
   "outputs": [
    {
     "data": {
      "text/html": [
       "<div>\n",
       "<style scoped>\n",
       "    .dataframe tbody tr th:only-of-type {\n",
       "        vertical-align: middle;\n",
       "    }\n",
       "\n",
       "    .dataframe tbody tr th {\n",
       "        vertical-align: top;\n",
       "    }\n",
       "\n",
       "    .dataframe thead th {\n",
       "        text-align: right;\n",
       "    }\n",
       "</style>\n",
       "<table border=\"1\" class=\"dataframe\">\n",
       "  <thead>\n",
       "    <tr style=\"text-align: right;\">\n",
       "      <th></th>\n",
       "      <th>ID</th>\n",
       "      <th>Square_Feet</th>\n",
       "      <th>Num_Bedrooms</th>\n",
       "      <th>Num_Bathrooms</th>\n",
       "      <th>Num_Floors</th>\n",
       "      <th>Year_Built</th>\n",
       "      <th>Has_Garden</th>\n",
       "      <th>Has_Pool</th>\n",
       "      <th>Garage_Size</th>\n",
       "      <th>Location_Score</th>\n",
       "      <th>Distance_to_Center</th>\n",
       "      <th>Price</th>\n",
       "    </tr>\n",
       "  </thead>\n",
       "  <tbody>\n",
       "    <tr>\n",
       "      <th>0</th>\n",
       "      <td>1</td>\n",
       "      <td>143.635030</td>\n",
       "      <td>1</td>\n",
       "      <td>3</td>\n",
       "      <td>3</td>\n",
       "      <td>1967</td>\n",
       "      <td>1</td>\n",
       "      <td>1</td>\n",
       "      <td>516.6672</td>\n",
       "      <td>8.297631</td>\n",
       "      <td>5.935734</td>\n",
       "      <td>602134.816747</td>\n",
       "    </tr>\n",
       "    <tr>\n",
       "      <th>1</th>\n",
       "      <td>2</td>\n",
       "      <td>287.678577</td>\n",
       "      <td>1</td>\n",
       "      <td>2</td>\n",
       "      <td>1</td>\n",
       "      <td>1949</td>\n",
       "      <td>0</td>\n",
       "      <td>1</td>\n",
       "      <td>398.2643</td>\n",
       "      <td>6.061466</td>\n",
       "      <td>10.827392</td>\n",
       "      <td>591425.135386</td>\n",
       "    </tr>\n",
       "    <tr>\n",
       "      <th>4</th>\n",
       "      <td>5</td>\n",
       "      <td>89.004660</td>\n",
       "      <td>4</td>\n",
       "      <td>3</td>\n",
       "      <td>3</td>\n",
       "      <td>1999</td>\n",
       "      <td>1</td>\n",
       "      <td>0</td>\n",
       "      <td>365.9726</td>\n",
       "      <td>1.523278</td>\n",
       "      <td>14.648277</td>\n",
       "      <td>619879.142523</td>\n",
       "    </tr>\n",
       "    <tr>\n",
       "      <th>5</th>\n",
       "      <td>6</td>\n",
       "      <td>88.998630</td>\n",
       "      <td>5</td>\n",
       "      <td>3</td>\n",
       "      <td>2</td>\n",
       "      <td>1959</td>\n",
       "      <td>1</td>\n",
       "      <td>1</td>\n",
       "      <td>387.5004</td>\n",
       "      <td>8.994552</td>\n",
       "      <td>17.633250</td>\n",
       "      <td>670386.804433</td>\n",
       "    </tr>\n",
       "    <tr>\n",
       "      <th>6</th>\n",
       "      <td>7</td>\n",
       "      <td>64.520903</td>\n",
       "      <td>4</td>\n",
       "      <td>3</td>\n",
       "      <td>1</td>\n",
       "      <td>1938</td>\n",
       "      <td>0</td>\n",
       "      <td>1</td>\n",
       "      <td>344.4448</td>\n",
       "      <td>7.101354</td>\n",
       "      <td>2.429908</td>\n",
       "      <td>523827.125601</td>\n",
       "    </tr>\n",
       "    <tr>\n",
       "      <th>...</th>\n",
       "      <td>...</td>\n",
       "      <td>...</td>\n",
       "      <td>...</td>\n",
       "      <td>...</td>\n",
       "      <td>...</td>\n",
       "      <td>...</td>\n",
       "      <td>...</td>\n",
       "      <td>...</td>\n",
       "      <td>...</td>\n",
       "      <td>...</td>\n",
       "      <td>...</td>\n",
       "      <td>...</td>\n",
       "    </tr>\n",
       "    <tr>\n",
       "      <th>494</th>\n",
       "      <td>495</td>\n",
       "      <td>165.924601</td>\n",
       "      <td>4</td>\n",
       "      <td>3</td>\n",
       "      <td>1</td>\n",
       "      <td>1935</td>\n",
       "      <td>1</td>\n",
       "      <td>1</td>\n",
       "      <td>236.8058</td>\n",
       "      <td>4.893764</td>\n",
       "      <td>15.889616</td>\n",
       "      <td>622815.455423</td>\n",
       "    </tr>\n",
       "    <tr>\n",
       "      <th>495</th>\n",
       "      <td>496</td>\n",
       "      <td>138.338057</td>\n",
       "      <td>2</td>\n",
       "      <td>2</td>\n",
       "      <td>2</td>\n",
       "      <td>1967</td>\n",
       "      <td>1</td>\n",
       "      <td>0</td>\n",
       "      <td>172.2224</td>\n",
       "      <td>4.296086</td>\n",
       "      <td>5.562583</td>\n",
       "      <td>488496.350722</td>\n",
       "    </tr>\n",
       "    <tr>\n",
       "      <th>496</th>\n",
       "      <td>497</td>\n",
       "      <td>195.914028</td>\n",
       "      <td>2</td>\n",
       "      <td>3</td>\n",
       "      <td>1</td>\n",
       "      <td>1977</td>\n",
       "      <td>0</td>\n",
       "      <td>1</td>\n",
       "      <td>484.3755</td>\n",
       "      <td>7.406261</td>\n",
       "      <td>2.845105</td>\n",
       "      <td>657736.921717</td>\n",
       "    </tr>\n",
       "    <tr>\n",
       "      <th>497</th>\n",
       "      <td>498</td>\n",
       "      <td>69.433659</td>\n",
       "      <td>1</td>\n",
       "      <td>1</td>\n",
       "      <td>2</td>\n",
       "      <td>2004</td>\n",
       "      <td>0</td>\n",
       "      <td>0</td>\n",
       "      <td>193.7502</td>\n",
       "      <td>8.629724</td>\n",
       "      <td>6.263264</td>\n",
       "      <td>405324.950201</td>\n",
       "    </tr>\n",
       "    <tr>\n",
       "      <th>498</th>\n",
       "      <td>499</td>\n",
       "      <td>293.598702</td>\n",
       "      <td>5</td>\n",
       "      <td>1</td>\n",
       "      <td>3</td>\n",
       "      <td>1940</td>\n",
       "      <td>1</td>\n",
       "      <td>0</td>\n",
       "      <td>441.3199</td>\n",
       "      <td>5.318891</td>\n",
       "      <td>16.990684</td>\n",
       "      <td>773035.968028</td>\n",
       "    </tr>\n",
       "  </tbody>\n",
       "</table>\n",
       "<p>409 rows × 12 columns</p>\n",
       "</div>"
      ],
      "text/plain": [
       "      ID  Square_Feet  Num_Bedrooms  Num_Bathrooms  Num_Floors  Year_Built  \\\n",
       "0      1   143.635030             1              3           3        1967   \n",
       "1      2   287.678577             1              2           1        1949   \n",
       "4      5    89.004660             4              3           3        1999   \n",
       "5      6    88.998630             5              3           2        1959   \n",
       "6      7    64.520903             4              3           1        1938   \n",
       "..   ...          ...           ...            ...         ...         ...   \n",
       "494  495   165.924601             4              3           1        1935   \n",
       "495  496   138.338057             2              2           2        1967   \n",
       "496  497   195.914028             2              3           1        1977   \n",
       "497  498    69.433659             1              1           2        2004   \n",
       "498  499   293.598702             5              1           3        1940   \n",
       "\n",
       "     Has_Garden  Has_Pool  Garage_Size  Location_Score  Distance_to_Center  \\\n",
       "0             1         1     516.6672        8.297631            5.935734   \n",
       "1             0         1     398.2643        6.061466           10.827392   \n",
       "4             1         0     365.9726        1.523278           14.648277   \n",
       "5             1         1     387.5004        8.994552           17.633250   \n",
       "6             0         1     344.4448        7.101354            2.429908   \n",
       "..          ...       ...          ...             ...                 ...   \n",
       "494           1         1     236.8058        4.893764           15.889616   \n",
       "495           1         0     172.2224        4.296086            5.562583   \n",
       "496           0         1     484.3755        7.406261            2.845105   \n",
       "497           0         0     193.7502        8.629724            6.263264   \n",
       "498           1         0     441.3199        5.318891           16.990684   \n",
       "\n",
       "             Price  \n",
       "0    602134.816747  \n",
       "1    591425.135386  \n",
       "4    619879.142523  \n",
       "5    670386.804433  \n",
       "6    523827.125601  \n",
       "..             ...  \n",
       "494  622815.455423  \n",
       "495  488496.350722  \n",
       "496  657736.921717  \n",
       "497  405324.950201  \n",
       "498  773035.968028  \n",
       "\n",
       "[409 rows x 12 columns]"
      ]
     },
     "execution_count": 134,
     "metadata": {},
     "output_type": "execute_result"
    }
   ],
   "source": [
    "# Step 2: Consistency check: Garage_Size in sqft should be less than Square_Feet\n",
    "invalid_garages = house_df[house_df[\"Garage_Size\"] >= house_df[\"Square_Feet\"]]\n",
    "\n",
    "# Step 3: Display the rows that violate the condition\n",
    "invalid_garages"
   ]
  },
  {
   "cell_type": "markdown",
   "id": "e90438a5",
   "metadata": {},
   "source": [
    "### Inconsistencies found:\n",
    "409 rows were found to have a larger garage than home. This seemed like a clear mixup as this makes up for approximately 82% of the dataset. Rows where the garage size is greater than the square feet of the home, these values will be swapped."
   ]
  },
  {
   "cell_type": "code",
   "execution_count": 135,
   "id": "0db77aac",
   "metadata": {},
   "outputs": [],
   "source": [
    "# Identify where Garage_Size is greater than Square_Feet\n",
    "swap_condition = house_df[\"Garage_Size\"] > house_df[\"Square_Feet\"]\n",
    "\n",
    "# Perform the swap PROPERLY\n",
    "house_df.loc[swap_condition, [\"Square_Feet\", \"Garage_Size\"]] = (house_df.loc[swap_condition, [\"Garage_Size\", \"Square_Feet\"]].values)"
   ]
  },
  {
   "cell_type": "markdown",
   "id": "86fe7a68",
   "metadata": {},
   "source": [
    "Verify the swap was completed correctly. There should be no rows such that Square_Feet < Garage_Size.\n",
    "\n",
    "Perform a check:"
   ]
  },
  {
   "cell_type": "code",
   "execution_count": 136,
   "id": "d5e468ad",
   "metadata": {},
   "outputs": [
    {
     "name": "stdout",
     "output_type": "stream",
     "text": [
      "There are 0 rows such that Square_Feet < Garage_Size\n",
      "View some samples:\n"
     ]
    },
    {
     "data": {
      "text/html": [
       "<div>\n",
       "<style scoped>\n",
       "    .dataframe tbody tr th:only-of-type {\n",
       "        vertical-align: middle;\n",
       "    }\n",
       "\n",
       "    .dataframe tbody tr th {\n",
       "        vertical-align: top;\n",
       "    }\n",
       "\n",
       "    .dataframe thead th {\n",
       "        text-align: right;\n",
       "    }\n",
       "</style>\n",
       "<table border=\"1\" class=\"dataframe\">\n",
       "  <thead>\n",
       "    <tr style=\"text-align: right;\">\n",
       "      <th></th>\n",
       "      <th>ID</th>\n",
       "      <th>Square_Feet</th>\n",
       "      <th>Num_Bedrooms</th>\n",
       "      <th>Num_Bathrooms</th>\n",
       "      <th>Num_Floors</th>\n",
       "      <th>Year_Built</th>\n",
       "      <th>Has_Garden</th>\n",
       "      <th>Has_Pool</th>\n",
       "      <th>Garage_Size</th>\n",
       "      <th>Location_Score</th>\n",
       "      <th>Distance_to_Center</th>\n",
       "      <th>Price</th>\n",
       "    </tr>\n",
       "  </thead>\n",
       "  <tbody>\n",
       "  </tbody>\n",
       "</table>\n",
       "</div>"
      ],
      "text/plain": [
       "Empty DataFrame\n",
       "Columns: [ID, Square_Feet, Num_Bedrooms, Num_Bathrooms, Num_Floors, Year_Built, Has_Garden, Has_Pool, Garage_Size, Location_Score, Distance_to_Center, Price]\n",
       "Index: []"
      ]
     },
     "execution_count": 136,
     "metadata": {},
     "output_type": "execute_result"
    }
   ],
   "source": [
    "# Identify where Garage_Size is greater than Square_Feet\n",
    "swap_condition =  house_df[\"Square_Feet\"] < house_df[\"Garage_Size\"]\n",
    "\n",
    "# Display rows where the condition is True (Square_Feet < Garage_Size)\n",
    "inconsistent_rows = house_df[swap_condition]\n",
    "\n",
    "# Print the problematic rows\n",
    "num_inconsistent = len(inconsistent_rows)\n",
    "\n",
    "print(f\"There are {num_inconsistent} rows such that Square_Feet < Garage_Size\")\n",
    "print(\"View some samples:\")\n",
    "inconsistent_rows"
   ]
  },
  {
   "cell_type": "markdown",
   "id": "7f395141",
   "metadata": {},
   "source": [
    "## Range:\n",
    "\n",
    "Given that majority of the values are int64 or float64, a range check is valuable.\n",
    "\n",
    "### Perform the range check:"
   ]
  },
  {
   "cell_type": "code",
   "execution_count": 137,
   "id": "6fcc993c",
   "metadata": {},
   "outputs": [
    {
     "data": {
      "text/html": [
       "<div>\n",
       "<style scoped>\n",
       "    .dataframe tbody tr th:only-of-type {\n",
       "        vertical-align: middle;\n",
       "    }\n",
       "\n",
       "    .dataframe tbody tr th {\n",
       "        vertical-align: top;\n",
       "    }\n",
       "\n",
       "    .dataframe thead th {\n",
       "        text-align: right;\n",
       "    }\n",
       "</style>\n",
       "<table border=\"1\" class=\"dataframe\">\n",
       "  <thead>\n",
       "    <tr style=\"text-align: right;\">\n",
       "      <th></th>\n",
       "      <th>ID</th>\n",
       "      <th>Square_Feet</th>\n",
       "      <th>Num_Bedrooms</th>\n",
       "      <th>Num_Bathrooms</th>\n",
       "      <th>Num_Floors</th>\n",
       "      <th>Year_Built</th>\n",
       "      <th>Has_Garden</th>\n",
       "      <th>Has_Pool</th>\n",
       "      <th>Garage_Size</th>\n",
       "      <th>Location_Score</th>\n",
       "      <th>Distance_to_Center</th>\n",
       "      <th>Price</th>\n",
       "    </tr>\n",
       "  </thead>\n",
       "  <tbody>\n",
       "  </tbody>\n",
       "</table>\n",
       "</div>"
      ],
      "text/plain": [
       "Empty DataFrame\n",
       "Columns: [ID, Square_Feet, Num_Bedrooms, Num_Bathrooms, Num_Floors, Year_Built, Has_Garden, Has_Pool, Garage_Size, Location_Score, Distance_to_Center, Price]\n",
       "Index: []"
      ]
     },
     "execution_count": 137,
     "metadata": {},
     "output_type": "execute_result"
    }
   ],
   "source": [
    "#Range Filters\n",
    "min_sqft = 46.0\n",
    "min_bed = 1\n",
    "min_bath = 1\n",
    "min_floors = 1\n",
    "year_built_range = range(1600, 2025)\n",
    "min_garage_size = 16.7225\n",
    "location_score_range = (0,10)\n",
    "min_dist_ctr = 0\n",
    "min_price = 0\n",
    "\n",
    "# Create a mask for valid rows\n",
    "valid_mask = (\n",
    "    (house_df[\"Square_Feet\"] >= min_sqft) &\n",
    "    (house_df[\"Num_Bedrooms\"] >= min_bed) &\n",
    "    (house_df[\"Num_Bathrooms\"] >= min_bath) &\n",
    "    (house_df[\"Num_Floors\"] >= min_floors) &\n",
    "    (house_df[\"Year_Built\"].isin(year_built_range)) &\n",
    "    (house_df[\"Garage_Size\"] >= min_garage_size) &\n",
    "    (house_df[\"Location_Score\"].between(*location_score_range)) &\n",
    "    (house_df[\"Distance_to_Center\"] >= min_dist_ctr) &\n",
    "    (house_df[\"Price\"] >= min_price)\n",
    ")\n",
    "\n",
    "# Get the problematic rows\n",
    "problematic_rows = house_df[~valid_mask]  # Invert mask to get failing rows\n",
    "\n",
    "# Display the problematic rows (There should be none)\n",
    "problematic_rows.head()"
   ]
  },
  {
   "cell_type": "code",
   "execution_count": 138,
   "id": "60ca0911",
   "metadata": {},
   "outputs": [
    {
     "name": "stdout",
     "output_type": "stream",
     "text": [
      "There are 0 rows with invalid ranges\n",
      "Invalid garage values: []\n"
     ]
    }
   ],
   "source": [
    "num_invalid_rows_range = len(problematic_rows[\"Garage_Size\"])\n",
    "invalid_garage_vals = problematic_rows[\"Garage_Size\"].unique()\n",
    "\n",
    "print(f\"There are {num_invalid_rows_range} rows with invalid ranges\")\n",
    "print(f\"Invalid garage values: {invalid_garage_vals}\")"
   ]
  },
  {
   "cell_type": "markdown",
   "id": "520b4e8d",
   "metadata": {},
   "source": [
    "#### Invalid Garage Sizes\n",
    "\n",
    "By logic and my research, the minimum garage size is 10x8 feet or 16.7725 Square feet. We will imputate the minumum garage size to such records"
   ]
  },
  {
   "cell_type": "code",
   "execution_count": 139,
   "id": "28fe9460",
   "metadata": {},
   "outputs": [],
   "source": [
    "#Convert the Garage_Size column to a float64 type\n",
    "house_df[\"Garage_Size\"] = house_df[\"Garage_Size\"].astype(float)"
   ]
  },
  {
   "cell_type": "code",
   "execution_count": 140,
   "id": "3b69f94d",
   "metadata": {},
   "outputs": [],
   "source": [
    "# Impute the invalid garage sizes with the minimum size\n",
    "house_df[\"Garage_Size\"] = house_df[\"Garage_Size\"].apply(lambda x: max(x, 16.7225))"
   ]
  },
  {
   "cell_type": "markdown",
   "id": "9a4d49e4",
   "metadata": {},
   "source": [
    "#### Successful Garage_Size Imputation\n",
    "There should be no more range errors upon the Garage_Size imputation"
   ]
  },
  {
   "cell_type": "markdown",
   "id": "5cc9fc4a",
   "metadata": {},
   "source": [
    "## Uniqueness Check:\n",
    "Only the ID Column needs to have unique values so we will verify that by ensuring the number of unique id values is the same as the length of the entire dataset. This is becsause there is a 1 to 1 relationship between the ID and each row."
   ]
  },
  {
   "cell_type": "code",
   "execution_count": 141,
   "id": "a5257966",
   "metadata": {},
   "outputs": [
    {
     "data": {
      "text/plain": [
       "True"
      ]
     },
     "execution_count": 141,
     "metadata": {},
     "output_type": "execute_result"
    }
   ],
   "source": [
    "len(house_df['ID'].unique()) == len(house_df)"
   ]
  },
  {
   "cell_type": "markdown",
   "id": "12c75a42",
   "metadata": {},
   "source": [
    "## Presence Check:\n",
    "We will check for null values in each column. Upon performing the check there are in fact none."
   ]
  },
  {
   "cell_type": "code",
   "execution_count": 142,
   "id": "6ef03d35",
   "metadata": {},
   "outputs": [
    {
     "name": "stdout",
     "output_type": "stream",
     "text": [
      "ID                    0\n",
      "Square_Feet           0\n",
      "Num_Bedrooms          0\n",
      "Num_Bathrooms         0\n",
      "Num_Floors            0\n",
      "Year_Built            0\n",
      "Has_Garden            0\n",
      "Has_Pool              0\n",
      "Garage_Size           0\n",
      "Location_Score        0\n",
      "Distance_to_Center    0\n",
      "Price                 0\n",
      "dtype: int64\n"
     ]
    }
   ],
   "source": [
    "print(house_df.isna().sum())"
   ]
  },
  {
   "cell_type": "markdown",
   "id": "9b549845",
   "metadata": {},
   "source": [
    "No Null values"
   ]
  },
  {
   "cell_type": "markdown",
   "id": "e9aa517c",
   "metadata": {},
   "source": [
    "## Duplicate Check"
   ]
  },
  {
   "cell_type": "code",
   "execution_count": 143,
   "id": "b947d532",
   "metadata": {},
   "outputs": [
    {
     "data": {
      "text/html": [
       "<div>\n",
       "<style scoped>\n",
       "    .dataframe tbody tr th:only-of-type {\n",
       "        vertical-align: middle;\n",
       "    }\n",
       "\n",
       "    .dataframe tbody tr th {\n",
       "        vertical-align: top;\n",
       "    }\n",
       "\n",
       "    .dataframe thead th {\n",
       "        text-align: right;\n",
       "    }\n",
       "</style>\n",
       "<table border=\"1\" class=\"dataframe\">\n",
       "  <thead>\n",
       "    <tr style=\"text-align: right;\">\n",
       "      <th></th>\n",
       "      <th>ID</th>\n",
       "      <th>Square_Feet</th>\n",
       "      <th>Num_Bedrooms</th>\n",
       "      <th>Num_Bathrooms</th>\n",
       "      <th>Num_Floors</th>\n",
       "      <th>Year_Built</th>\n",
       "      <th>Has_Garden</th>\n",
       "      <th>Has_Pool</th>\n",
       "      <th>Garage_Size</th>\n",
       "      <th>Location_Score</th>\n",
       "      <th>Distance_to_Center</th>\n",
       "      <th>Price</th>\n",
       "    </tr>\n",
       "  </thead>\n",
       "  <tbody>\n",
       "  </tbody>\n",
       "</table>\n",
       "</div>"
      ],
      "text/plain": [
       "Empty DataFrame\n",
       "Columns: [ID, Square_Feet, Num_Bedrooms, Num_Bathrooms, Num_Floors, Year_Built, Has_Garden, Has_Pool, Garage_Size, Location_Score, Distance_to_Center, Price]\n",
       "Index: []"
      ]
     },
     "execution_count": 143,
     "metadata": {},
     "output_type": "execute_result"
    }
   ],
   "source": [
    "duplicates = house_df[house_df.duplicated()]\n",
    "\n",
    "duplicates"
   ]
  },
  {
   "cell_type": "markdown",
   "id": "b60313ff",
   "metadata": {},
   "source": [
    "No duplicates found"
   ]
  },
  {
   "cell_type": "markdown",
   "id": "db3e9ac5",
   "metadata": {},
   "source": [
    "## Near Duplicate Check\n"
   ]
  },
  {
   "cell_type": "code",
   "execution_count": 144,
   "id": "7b47059c",
   "metadata": {},
   "outputs": [
    {
     "data": {
      "text/html": [
       "<div>\n",
       "<style scoped>\n",
       "    .dataframe tbody tr th:only-of-type {\n",
       "        vertical-align: middle;\n",
       "    }\n",
       "\n",
       "    .dataframe tbody tr th {\n",
       "        vertical-align: top;\n",
       "    }\n",
       "\n",
       "    .dataframe thead th {\n",
       "        text-align: right;\n",
       "    }\n",
       "</style>\n",
       "<table border=\"1\" class=\"dataframe\">\n",
       "  <thead>\n",
       "    <tr style=\"text-align: right;\">\n",
       "      <th></th>\n",
       "      <th>ID</th>\n",
       "      <th>Square_Feet</th>\n",
       "      <th>Num_Bedrooms</th>\n",
       "      <th>Num_Bathrooms</th>\n",
       "      <th>Num_Floors</th>\n",
       "      <th>Year_Built</th>\n",
       "      <th>Has_Garden</th>\n",
       "      <th>Has_Pool</th>\n",
       "      <th>Garage_Size</th>\n",
       "      <th>Location_Score</th>\n",
       "      <th>Distance_to_Center</th>\n",
       "      <th>Price</th>\n",
       "    </tr>\n",
       "  </thead>\n",
       "  <tbody>\n",
       "  </tbody>\n",
       "</table>\n",
       "</div>"
      ],
      "text/plain": [
       "Empty DataFrame\n",
       "Columns: [ID, Square_Feet, Num_Bedrooms, Num_Bathrooms, Num_Floors, Year_Built, Has_Garden, Has_Pool, Garage_Size, Location_Score, Distance_to_Center, Price]\n",
       "Index: []"
      ]
     },
     "execution_count": 144,
     "metadata": {},
     "output_type": "execute_result"
    }
   ],
   "source": [
    "house_df_rounded = house_df.copy()\n",
    "\n",
    "# Round numerical columns to a specific number of decimal places\n",
    "numeric_columns = ['Square_Feet', 'Num_Bedrooms', 'Num_Bathrooms', 'Num_Floors', 'Year_Built', 'Garage_Size', 'Location_Score', 'Distance_to_Center', 'Price']\n",
    "house_df_rounded[numeric_columns] = house_df[numeric_columns].round(2)\n",
    "\n",
    "# Now check for duplicates in the rounded dataset\n",
    "near_duplicates = house_df_rounded[house_df_rounded.duplicated()]\n",
    "near_duplicates"
   ]
  },
  {
   "cell_type": "markdown",
   "id": "72b6c438",
   "metadata": {},
   "source": [
    "No near duplicates identified"
   ]
  },
  {
   "cell_type": "markdown",
   "id": "46b0ca68",
   "metadata": {},
   "source": [
    "# 2) Categorical Feature Encoding\n",
    "\n",
    "There is already existing one-hot encoding in the Has_Garden and Has_Pool columns. All other columns are numerical therfore there can be no further categorical feature encoding."
   ]
  },
  {
   "cell_type": "markdown",
   "id": "60ad6363",
   "metadata": {},
   "source": [
    "# 3) EDA and Outlier Detection\n",
    "\n",
    "TODO Re organize to demonstrate the EDA into LOF"
   ]
  },
  {
   "cell_type": "code",
   "execution_count": 145,
   "id": "0f428989",
   "metadata": {},
   "outputs": [
    {
     "name": "stdout",
     "output_type": "stream",
     "text": [
      "['ID', 'Square_Feet', 'Num_Bedrooms', 'Num_Bathrooms', 'Num_Floors', 'Year_Built', 'Has_Garden', 'Has_Pool', 'Garage_Size', 'Location_Score', 'Distance_to_Center', 'Price']\n"
     ]
    }
   ],
   "source": [
    "# Get all the columns, excluding those containing 'LOF_Score'\n",
    "main_columns = [col for col in house_df.columns if 'LOF_Score' not in col and 'Outl' not in col]\n",
    "\n",
    "print(main_columns)"
   ]
  },
  {
   "cell_type": "code",
   "execution_count": 146,
   "id": "0fadda23",
   "metadata": {},
   "outputs": [
    {
     "name": "stdout",
     "output_type": "stream",
     "text": [
      "Empty DataFrame\n",
      "Columns: [Num_Bedrooms, LOF_Score, Is_Outlier]\n",
      "Index: []\n"
     ]
    }
   ],
   "source": [
    "# Assuming house_df is your dataset\n",
    "\n",
    "# Extract 'Num_Bedrooms' for outlier detection\n",
    "X = house_df[['Num_Bedrooms']]\n",
    "\n",
    "# Initialize Local Outlier Factor (LOF) model\n",
    "lof = LocalOutlierFactor(n_neighbors=15, contamination=0.05)  # Adjust contamination as needed\n",
    "\n",
    "# Fit and predict outliers (-1 means outlier, 1 means inlier)\n",
    "outlier_flags = lof.fit_predict(X)\n",
    "\n",
    "# Add the LOF scores and outlier labels to the dataframe\n",
    "house_df[\"LOF_Score\"] = lof.negative_outlier_factor_  # More negative = more anomalous\n",
    "house_df[\"Is_Outlier\"] = outlier_flags == -1  # True if flagged as an outlier\n",
    "\n",
    "# Show only the detected outliers\n",
    "outliers = house_df[house_df[\"Is_Outlier\"]]\n",
    "\n",
    "# Print the flagged outliers\n",
    "print(outliers[['Num_Bedrooms', 'LOF_Score', 'Is_Outlier']])"
   ]
  },
  {
   "cell_type": "code",
   "execution_count": 147,
   "id": "06d3a164",
   "metadata": {},
   "outputs": [],
   "source": [
    " from sklearn.neighbors import LocalOutlierFactor\n",
    "\n",
    "# Identify numerical columns (exclude 'ID' since it's just an identifier)\n",
    "num_cols = house_df.select_dtypes(include=['int64', 'float64']).columns\n",
    "num_cols = num_cols.drop(\"ID\")  # Drop ID column\n",
    "\n",
    "# Set LOF parameters\n",
    "n_neighbors = 20\n",
    "contamination = 0.05\n",
    "\n",
    "# Run LOF for each numerical column\n",
    "for col in num_cols:\n",
    "    lof = LocalOutlierFactor(n_neighbors=n_neighbors, contamination=contamination)\n",
    "    outliers = lof.fit_predict(house_df[[col]])\n",
    "    \n",
    "    # Store results in a new column for each feature\n",
    "    house_df[f\"LOF_Score_{col}\"] = lof.negative_outlier_factor_\n",
    "    house_df[f\"Is_Outlier_{col}\"] = outliers == -1\n",
    "\n",
    "# Combine all outlier flags (flagged in ANY column)\n",
    "house_df[\"Is_Outlier_Any\"] = house_df[[f\"Is_Outlier_{col}\" for col in num_cols]].any(axis=1)"
   ]
  },
  {
   "cell_type": "code",
   "execution_count": 148,
   "id": "d4e12f2d",
   "metadata": {},
   "outputs": [
    {
     "data": {
      "text/html": [
       "<div>\n",
       "<style scoped>\n",
       "    .dataframe tbody tr th:only-of-type {\n",
       "        vertical-align: middle;\n",
       "    }\n",
       "\n",
       "    .dataframe tbody tr th {\n",
       "        vertical-align: top;\n",
       "    }\n",
       "\n",
       "    .dataframe thead th {\n",
       "        text-align: right;\n",
       "    }\n",
       "</style>\n",
       "<table border=\"1\" class=\"dataframe\">\n",
       "  <thead>\n",
       "    <tr style=\"text-align: right;\">\n",
       "      <th></th>\n",
       "      <th>ID</th>\n",
       "      <th>Square_Feet</th>\n",
       "      <th>Num_Bedrooms</th>\n",
       "      <th>Num_Bathrooms</th>\n",
       "      <th>Num_Floors</th>\n",
       "      <th>Year_Built</th>\n",
       "      <th>Has_Garden</th>\n",
       "      <th>Has_Pool</th>\n",
       "      <th>Garage_Size</th>\n",
       "      <th>Location_Score</th>\n",
       "      <th>Distance_to_Center</th>\n",
       "      <th>Price</th>\n",
       "    </tr>\n",
       "  </thead>\n",
       "  <tbody>\n",
       "    <tr>\n",
       "      <th>7</th>\n",
       "      <td>8</td>\n",
       "      <td>419.792100</td>\n",
       "      <td>5</td>\n",
       "      <td>1</td>\n",
       "      <td>3</td>\n",
       "      <td>1973</td>\n",
       "      <td>1</td>\n",
       "      <td>1</td>\n",
       "      <td>266.544036</td>\n",
       "      <td>9.373784</td>\n",
       "      <td>12.692785</td>\n",
       "      <td>875352.545188</td>\n",
       "    </tr>\n",
       "    <tr>\n",
       "      <th>40</th>\n",
       "      <td>41</td>\n",
       "      <td>312.153100</td>\n",
       "      <td>1</td>\n",
       "      <td>1</td>\n",
       "      <td>2</td>\n",
       "      <td>1924</td>\n",
       "      <td>1</td>\n",
       "      <td>1</td>\n",
       "      <td>80.509559</td>\n",
       "      <td>9.306068</td>\n",
       "      <td>15.459734</td>\n",
       "      <td>352899.274264</td>\n",
       "    </tr>\n",
       "    <tr>\n",
       "      <th>52</th>\n",
       "      <td>53</td>\n",
       "      <td>284.874735</td>\n",
       "      <td>5</td>\n",
       "      <td>2</td>\n",
       "      <td>2</td>\n",
       "      <td>2012</td>\n",
       "      <td>1</td>\n",
       "      <td>1</td>\n",
       "      <td>226.041900</td>\n",
       "      <td>7.608543</td>\n",
       "      <td>13.945508</td>\n",
       "      <td>909199.560366</td>\n",
       "    </tr>\n",
       "    <tr>\n",
       "      <th>90</th>\n",
       "      <td>91</td>\n",
       "      <td>139.930700</td>\n",
       "      <td>1</td>\n",
       "      <td>1</td>\n",
       "      <td>2</td>\n",
       "      <td>1920</td>\n",
       "      <td>0</td>\n",
       "      <td>1</td>\n",
       "      <td>79.898561</td>\n",
       "      <td>2.320398</td>\n",
       "      <td>0.906386</td>\n",
       "      <td>276892.470136</td>\n",
       "    </tr>\n",
       "    <tr>\n",
       "      <th>102</th>\n",
       "      <td>103</td>\n",
       "      <td>387.500400</td>\n",
       "      <td>1</td>\n",
       "      <td>2</td>\n",
       "      <td>3</td>\n",
       "      <td>1901</td>\n",
       "      <td>0</td>\n",
       "      <td>0</td>\n",
       "      <td>128.588995</td>\n",
       "      <td>0.460567</td>\n",
       "      <td>8.521420</td>\n",
       "      <td>299477.849956</td>\n",
       "    </tr>\n",
       "    <tr>\n",
       "      <th>148</th>\n",
       "      <td>149</td>\n",
       "      <td>441.319900</td>\n",
       "      <td>1</td>\n",
       "      <td>1</td>\n",
       "      <td>2</td>\n",
       "      <td>1983</td>\n",
       "      <td>0</td>\n",
       "      <td>0</td>\n",
       "      <td>62.869688</td>\n",
       "      <td>1.438144</td>\n",
       "      <td>9.262294</td>\n",
       "      <td>280166.110934</td>\n",
       "    </tr>\n",
       "    <tr>\n",
       "      <th>150</th>\n",
       "      <td>151</td>\n",
       "      <td>322.917000</td>\n",
       "      <td>5</td>\n",
       "      <td>2</td>\n",
       "      <td>3</td>\n",
       "      <td>2019</td>\n",
       "      <td>1</td>\n",
       "      <td>1</td>\n",
       "      <td>277.066471</td>\n",
       "      <td>9.037576</td>\n",
       "      <td>13.094182</td>\n",
       "      <td>960678.274291</td>\n",
       "    </tr>\n",
       "    <tr>\n",
       "      <th>171</th>\n",
       "      <td>172</td>\n",
       "      <td>322.917000</td>\n",
       "      <td>2</td>\n",
       "      <td>1</td>\n",
       "      <td>1</td>\n",
       "      <td>1935</td>\n",
       "      <td>1</td>\n",
       "      <td>0</td>\n",
       "      <td>54.146957</td>\n",
       "      <td>7.739062</td>\n",
       "      <td>4.021303</td>\n",
       "      <td>320014.707134</td>\n",
       "    </tr>\n",
       "    <tr>\n",
       "      <th>179</th>\n",
       "      <td>180</td>\n",
       "      <td>387.500400</td>\n",
       "      <td>1</td>\n",
       "      <td>3</td>\n",
       "      <td>1</td>\n",
       "      <td>1901</td>\n",
       "      <td>1</td>\n",
       "      <td>1</td>\n",
       "      <td>84.380236</td>\n",
       "      <td>3.918240</td>\n",
       "      <td>14.136757</td>\n",
       "      <td>359989.957038</td>\n",
       "    </tr>\n",
       "    <tr>\n",
       "      <th>200</th>\n",
       "      <td>201</td>\n",
       "      <td>452.083800</td>\n",
       "      <td>5</td>\n",
       "      <td>3</td>\n",
       "      <td>2</td>\n",
       "      <td>2000</td>\n",
       "      <td>1</td>\n",
       "      <td>1</td>\n",
       "      <td>210.507912</td>\n",
       "      <td>8.180267</td>\n",
       "      <td>18.332066</td>\n",
       "      <td>885909.215276</td>\n",
       "    </tr>\n",
       "    <tr>\n",
       "      <th>209</th>\n",
       "      <td>210</td>\n",
       "      <td>290.625300</td>\n",
       "      <td>1</td>\n",
       "      <td>3</td>\n",
       "      <td>2</td>\n",
       "      <td>1944</td>\n",
       "      <td>0</td>\n",
       "      <td>0</td>\n",
       "      <td>90.202013</td>\n",
       "      <td>5.424710</td>\n",
       "      <td>7.811872</td>\n",
       "      <td>358006.550936</td>\n",
       "    </tr>\n",
       "    <tr>\n",
       "      <th>224</th>\n",
       "      <td>225</td>\n",
       "      <td>150.694600</td>\n",
       "      <td>1</td>\n",
       "      <td>2</td>\n",
       "      <td>1</td>\n",
       "      <td>1920</td>\n",
       "      <td>1</td>\n",
       "      <td>0</td>\n",
       "      <td>116.300592</td>\n",
       "      <td>5.600917</td>\n",
       "      <td>9.882953</td>\n",
       "      <td>299387.116387</td>\n",
       "    </tr>\n",
       "    <tr>\n",
       "      <th>254</th>\n",
       "      <td>255</td>\n",
       "      <td>495.139400</td>\n",
       "      <td>2</td>\n",
       "      <td>3</td>\n",
       "      <td>1</td>\n",
       "      <td>1912</td>\n",
       "      <td>0</td>\n",
       "      <td>1</td>\n",
       "      <td>92.373187</td>\n",
       "      <td>0.160619</td>\n",
       "      <td>9.097449</td>\n",
       "      <td>378305.092805</td>\n",
       "    </tr>\n",
       "    <tr>\n",
       "      <th>291</th>\n",
       "      <td>292</td>\n",
       "      <td>269.097500</td>\n",
       "      <td>3</td>\n",
       "      <td>1</td>\n",
       "      <td>2</td>\n",
       "      <td>1909</td>\n",
       "      <td>1</td>\n",
       "      <td>0</td>\n",
       "      <td>59.337047</td>\n",
       "      <td>3.906821</td>\n",
       "      <td>8.707873</td>\n",
       "      <td>376178.524252</td>\n",
       "    </tr>\n",
       "    <tr>\n",
       "      <th>294</th>\n",
       "      <td>295</td>\n",
       "      <td>118.402900</td>\n",
       "      <td>1</td>\n",
       "      <td>2</td>\n",
       "      <td>1</td>\n",
       "      <td>1910</td>\n",
       "      <td>0</td>\n",
       "      <td>1</td>\n",
       "      <td>81.765128</td>\n",
       "      <td>9.349944</td>\n",
       "      <td>17.837862</td>\n",
       "      <td>291630.925913</td>\n",
       "    </tr>\n",
       "    <tr>\n",
       "      <th>332</th>\n",
       "      <td>333</td>\n",
       "      <td>419.792100</td>\n",
       "      <td>1</td>\n",
       "      <td>1</td>\n",
       "      <td>1</td>\n",
       "      <td>1961</td>\n",
       "      <td>1</td>\n",
       "      <td>1</td>\n",
       "      <td>53.598372</td>\n",
       "      <td>6.307005</td>\n",
       "      <td>15.611121</td>\n",
       "      <td>377060.003967</td>\n",
       "    </tr>\n",
       "    <tr>\n",
       "      <th>356</th>\n",
       "      <td>357</td>\n",
       "      <td>355.208700</td>\n",
       "      <td>2</td>\n",
       "      <td>2</td>\n",
       "      <td>1</td>\n",
       "      <td>1938</td>\n",
       "      <td>1</td>\n",
       "      <td>0</td>\n",
       "      <td>56.627828</td>\n",
       "      <td>1.170660</td>\n",
       "      <td>10.455203</td>\n",
       "      <td>301823.920507</td>\n",
       "    </tr>\n",
       "    <tr>\n",
       "      <th>377</th>\n",
       "      <td>378</td>\n",
       "      <td>279.861400</td>\n",
       "      <td>3</td>\n",
       "      <td>1</td>\n",
       "      <td>2</td>\n",
       "      <td>1920</td>\n",
       "      <td>0</td>\n",
       "      <td>1</td>\n",
       "      <td>55.817984</td>\n",
       "      <td>4.980404</td>\n",
       "      <td>18.646455</td>\n",
       "      <td>354991.349233</td>\n",
       "    </tr>\n",
       "    <tr>\n",
       "      <th>409</th>\n",
       "      <td>410</td>\n",
       "      <td>290.625300</td>\n",
       "      <td>1</td>\n",
       "      <td>1</td>\n",
       "      <td>2</td>\n",
       "      <td>1928</td>\n",
       "      <td>0</td>\n",
       "      <td>1</td>\n",
       "      <td>72.821669</td>\n",
       "      <td>8.849643</td>\n",
       "      <td>7.530606</td>\n",
       "      <td>298871.665267</td>\n",
       "    </tr>\n",
       "    <tr>\n",
       "      <th>434</th>\n",
       "      <td>435</td>\n",
       "      <td>484.375500</td>\n",
       "      <td>1</td>\n",
       "      <td>1</td>\n",
       "      <td>1</td>\n",
       "      <td>1931</td>\n",
       "      <td>0</td>\n",
       "      <td>1</td>\n",
       "      <td>71.026702</td>\n",
       "      <td>5.350255</td>\n",
       "      <td>15.257867</td>\n",
       "      <td>318416.124369</td>\n",
       "    </tr>\n",
       "    <tr>\n",
       "      <th>452</th>\n",
       "      <td>453</td>\n",
       "      <td>355.208700</td>\n",
       "      <td>2</td>\n",
       "      <td>3</td>\n",
       "      <td>2</td>\n",
       "      <td>1904</td>\n",
       "      <td>0</td>\n",
       "      <td>0</td>\n",
       "      <td>156.055502</td>\n",
       "      <td>1.118806</td>\n",
       "      <td>15.467621</td>\n",
       "      <td>359887.850280</td>\n",
       "    </tr>\n",
       "    <tr>\n",
       "      <th>470</th>\n",
       "      <td>471</td>\n",
       "      <td>505.903300</td>\n",
       "      <td>3</td>\n",
       "      <td>1</td>\n",
       "      <td>2</td>\n",
       "      <td>1904</td>\n",
       "      <td>1</td>\n",
       "      <td>0</td>\n",
       "      <td>53.038619</td>\n",
       "      <td>2.160601</td>\n",
       "      <td>8.622248</td>\n",
       "      <td>366413.903468</td>\n",
       "    </tr>\n",
       "    <tr>\n",
       "      <th>473</th>\n",
       "      <td>474</td>\n",
       "      <td>398.264300</td>\n",
       "      <td>5</td>\n",
       "      <td>1</td>\n",
       "      <td>2</td>\n",
       "      <td>2017</td>\n",
       "      <td>1</td>\n",
       "      <td>0</td>\n",
       "      <td>272.785778</td>\n",
       "      <td>6.322166</td>\n",
       "      <td>8.371646</td>\n",
       "      <td>867558.296769</td>\n",
       "    </tr>\n",
       "    <tr>\n",
       "      <th>487</th>\n",
       "      <td>488</td>\n",
       "      <td>365.972600</td>\n",
       "      <td>1</td>\n",
       "      <td>3</td>\n",
       "      <td>1</td>\n",
       "      <td>1924</td>\n",
       "      <td>1</td>\n",
       "      <td>0</td>\n",
       "      <td>120.240797</td>\n",
       "      <td>4.145161</td>\n",
       "      <td>18.258620</td>\n",
       "      <td>379122.263382</td>\n",
       "    </tr>\n",
       "    <tr>\n",
       "      <th>499</th>\n",
       "      <td>500</td>\n",
       "      <td>296.552686</td>\n",
       "      <td>4</td>\n",
       "      <td>3</td>\n",
       "      <td>1</td>\n",
       "      <td>1988</td>\n",
       "      <td>1</td>\n",
       "      <td>1</td>\n",
       "      <td>215.278000</td>\n",
       "      <td>7.894322</td>\n",
       "      <td>1.779794</td>\n",
       "      <td>864299.500218</td>\n",
       "    </tr>\n",
       "  </tbody>\n",
       "</table>\n",
       "</div>"
      ],
      "text/plain": [
       "      ID  Square_Feet  Num_Bedrooms  Num_Bathrooms  Num_Floors  Year_Built  \\\n",
       "7      8   419.792100             5              1           3        1973   \n",
       "40    41   312.153100             1              1           2        1924   \n",
       "52    53   284.874735             5              2           2        2012   \n",
       "90    91   139.930700             1              1           2        1920   \n",
       "102  103   387.500400             1              2           3        1901   \n",
       "148  149   441.319900             1              1           2        1983   \n",
       "150  151   322.917000             5              2           3        2019   \n",
       "171  172   322.917000             2              1           1        1935   \n",
       "179  180   387.500400             1              3           1        1901   \n",
       "200  201   452.083800             5              3           2        2000   \n",
       "209  210   290.625300             1              3           2        1944   \n",
       "224  225   150.694600             1              2           1        1920   \n",
       "254  255   495.139400             2              3           1        1912   \n",
       "291  292   269.097500             3              1           2        1909   \n",
       "294  295   118.402900             1              2           1        1910   \n",
       "332  333   419.792100             1              1           1        1961   \n",
       "356  357   355.208700             2              2           1        1938   \n",
       "377  378   279.861400             3              1           2        1920   \n",
       "409  410   290.625300             1              1           2        1928   \n",
       "434  435   484.375500             1              1           1        1931   \n",
       "452  453   355.208700             2              3           2        1904   \n",
       "470  471   505.903300             3              1           2        1904   \n",
       "473  474   398.264300             5              1           2        2017   \n",
       "487  488   365.972600             1              3           1        1924   \n",
       "499  500   296.552686             4              3           1        1988   \n",
       "\n",
       "     Has_Garden  Has_Pool  Garage_Size  Location_Score  Distance_to_Center  \\\n",
       "7             1         1   266.544036        9.373784           12.692785   \n",
       "40            1         1    80.509559        9.306068           15.459734   \n",
       "52            1         1   226.041900        7.608543           13.945508   \n",
       "90            0         1    79.898561        2.320398            0.906386   \n",
       "102           0         0   128.588995        0.460567            8.521420   \n",
       "148           0         0    62.869688        1.438144            9.262294   \n",
       "150           1         1   277.066471        9.037576           13.094182   \n",
       "171           1         0    54.146957        7.739062            4.021303   \n",
       "179           1         1    84.380236        3.918240           14.136757   \n",
       "200           1         1   210.507912        8.180267           18.332066   \n",
       "209           0         0    90.202013        5.424710            7.811872   \n",
       "224           1         0   116.300592        5.600917            9.882953   \n",
       "254           0         1    92.373187        0.160619            9.097449   \n",
       "291           1         0    59.337047        3.906821            8.707873   \n",
       "294           0         1    81.765128        9.349944           17.837862   \n",
       "332           1         1    53.598372        6.307005           15.611121   \n",
       "356           1         0    56.627828        1.170660           10.455203   \n",
       "377           0         1    55.817984        4.980404           18.646455   \n",
       "409           0         1    72.821669        8.849643            7.530606   \n",
       "434           0         1    71.026702        5.350255           15.257867   \n",
       "452           0         0   156.055502        1.118806           15.467621   \n",
       "470           1         0    53.038619        2.160601            8.622248   \n",
       "473           1         0   272.785778        6.322166            8.371646   \n",
       "487           1         0   120.240797        4.145161           18.258620   \n",
       "499           1         1   215.278000        7.894322            1.779794   \n",
       "\n",
       "             Price  \n",
       "7    875352.545188  \n",
       "40   352899.274264  \n",
       "52   909199.560366  \n",
       "90   276892.470136  \n",
       "102  299477.849956  \n",
       "148  280166.110934  \n",
       "150  960678.274291  \n",
       "171  320014.707134  \n",
       "179  359989.957038  \n",
       "200  885909.215276  \n",
       "209  358006.550936  \n",
       "224  299387.116387  \n",
       "254  378305.092805  \n",
       "291  376178.524252  \n",
       "294  291630.925913  \n",
       "332  377060.003967  \n",
       "356  301823.920507  \n",
       "377  354991.349233  \n",
       "409  298871.665267  \n",
       "434  318416.124369  \n",
       "452  359887.850280  \n",
       "470  366413.903468  \n",
       "473  867558.296769  \n",
       "487  379122.263382  \n",
       "499  864299.500218  "
      ]
     },
     "execution_count": 148,
     "metadata": {},
     "output_type": "execute_result"
    }
   ],
   "source": [
    "# Get rows where 'Is_Outlier_Year_Built' is True\n",
    "outliers_year_built = house_df[house_df['Is_Outlier_Price'] == True]\n",
    "\n",
    "# Display the rows\n",
    "outliers_year_built[main_columns]\n"
   ]
  },
  {
   "cell_type": "code",
   "execution_count": 152,
   "id": "a2d6ad11",
   "metadata": {},
   "outputs": [
    {
     "data": {
      "image/png": "[encoded data removed]",
      "text/plain": [
       "<Figure size 1000x600 with 1 Axes>"
      ]
     },
     "metadata": {},
     "output_type": "display_data"
    },
    {
     "data": {
      "image/png": "[encoded data removed]",
      "text/plain": [
       "<Figure size 1000x600 with 1 Axes>"
      ]
     },
     "metadata": {},
     "output_type": "display_data"
    },
    {
     "data": {
      "image/png": "[encoded data removed]",
      "text/plain": [
       "<Figure size 1000x600 with 1 Axes>"
      ]
     },
     "metadata": {},
     "output_type": "display_data"
    },
    {
     "data": {
      "image/png": "[encoded data removed]",
      "text/plain": [
       "<Figure size 1000x600 with 1 Axes>"
      ]
     },
     "metadata": {},
     "output_type": "display_data"
    },
    {
     "data": {
      "image/png": "[encoded data removed]",
      "text/plain": [
       "<Figure size 1000x600 with 1 Axes>"
      ]
     },
     "metadata": {},
     "output_type": "display_data"
    },
    {
     "data": {
      "image/png": "[encoded data removed]",
      "text/plain": [
       "<Figure size 1000x600 with 1 Axes>"
      ]
     },
     "metadata": {},
     "output_type": "display_data"
    },
    {
     "data": {
      "image/png": "[encoded data removed]",
      "text/plain": [
       "<Figure size 1000x600 with 1 Axes>"
      ]
     },
     "metadata": {},
     "output_type": "display_data"
    },
    {
     "data": {
      "image/png": "[encoded data removed]",
      "text/plain": [
       "<Figure size 1000x600 with 1 Axes>"
      ]
     },
     "metadata": {},
     "output_type": "display_data"
    },
    {
     "data": {
      "image/png": "[encoded data removed]",
      "text/plain": [
       "<Figure size 1000x600 with 1 Axes>"
      ]
     },
     "metadata": {},
     "output_type": "display_data"
    },
    {
     "data": {
      "image/png": "[encoded data removed]",
      "text/plain": [
       "<Figure size 1000x600 with 1 Axes>"
      ]
     },
     "metadata": {},
     "output_type": "display_data"
    },
    {
     "data": {
      "image/png": "[encoded data removed]",
      "text/plain": [
       "<Figure size 1000x600 with 1 Axes>"
      ]
     },
     "metadata": {},
     "output_type": "display_data"
    }
   ],
   "source": [
    "import matplotlib.pyplot as plt\n",
    "import seaborn as sns\n",
    "\n",
    "# List of numerical columns in the dataframe, excluding 'ID', LOF columns, and categorical columns\n",
    "numerical_columns = house_df.select_dtypes(include=['float64', 'int64']).columns.tolist()\n",
    "numerical_columns = [col for col in numerical_columns if col != 'ID' and 'LOF_Score' not in col]  # Skip 'ID' and LOF columns\n",
    "\n",
    "# Loop through each numerical column and plot the boxplot with outliers\n",
    "for column in numerical_columns:\n",
    "    # Filter outliers and non-outliers for the current column\n",
    "    outliers = house_df[house_df[f'Is_Outlier_{column}'] == True]\n",
    "    non_outliers = house_df[house_df[f'Is_Outlier_{column}'] == False]\n",
    "\n",
    "    # Set up the plot for this column\n",
    "    plt.figure(figsize=(10, 6))\n",
    "\n",
    "    # Plot the non-outliers\n",
    "    sns.boxplot(x=house_df[column], color='lightblue', label='Non-Outliers')\n",
    "\n",
    "    # Plot the outliers (overlay on the same plot)\n",
    "    sns.scatterplot(x=outliers[column], y=[0] * len(outliers), color='red', marker='o', s=100, label='Outliers')\n",
    "\n",
    "    # Title and labels\n",
    "    plt.title(f'{column} - Outlier Detection', fontsize=16)\n",
    "    plt.xlabel(f'{column}', fontsize=14)\n",
    "    plt.ylabel('Frequency', fontsize=14)\n",
    "\n",
    "    # Show legend\n",
    "    plt.legend()\n",
    "\n",
    "    # Show the plot\n",
    "    plt.show()\n"
   ]
  },
  {
   "cell_type": "code",
   "execution_count": 151,
   "id": "e0675ec2",
   "metadata": {},
   "outputs": [],
   "source": [
    "import pandas as pd\n",
    "\n",
    "# Columns to check for outliers and perform imputation\n",
    "columns_to_impute = [\n",
    "    'Square_Feet', 'Num_Bedrooms', 'Num_Bathrooms', 'Num_Floors', 'Year_Built',\n",
    "    'Has_Garden', 'Has_Pool', 'Garage_Size', 'Location_Score', 'Distance_to_Center', 'Price'\n",
    "]\n",
    "\n",
    "# Apply appropriate imputation method based on outlier status\n",
    "for col in columns_to_impute:\n",
    "    outlier_col = 'Is_Outlier_' + col\n",
    "\n",
    "    if outlier_col in house_df.columns:\n",
    "        # Use Mode for Year_Built, otherwise use Median for other numerical columns\n",
    "        if col == 'Year_Built':\n",
    "            imputation_value = house_df[col].mode()[0]  # Mode for Year_Built\n",
    "        else:\n",
    "            imputation_value = house_df[col].median()  # Median for other numerical columns\n",
    "\n",
    "        # Apply the imputation to outlier rows\n",
    "        house_df.loc[house_df[outlier_col] == True, col] = imputation_value\n"
   ]
  },
  {
   "cell_type": "markdown",
   "id": "de7e0d43",
   "metadata": {},
   "source": [
    "# Sources:\n",
    "Smallest Possible House Size: https://www.greatlakestinyhome.com/worlds-smallest-house/#:~:text=Keret%20House%2C%20Poland&text=It%20boasts%20a%20world%20record,story%20on%20the%20first%20floor.\n",
    "\n",
    "Oldest built home: https://geojango.com/blogs/explore-your-world/oldest-homes-america?srsltid=AfmBOoq0J_96cQgna1C_MJVIoC61INx0zlf6BAcT8YgHT8LzfNNKZdNC\n",
    "\n",
    "Minumum Garage Size: https://shedsunlimited.net/blog/how-large-is-a-one-car-garage/?srsltid=AfmBOoq7cjf-SXORwozvt1vRW4ow4GMjwQg8tTLz0ldzLrky1VLNK3zc"
   ]
  },
  {
   "cell_type": "code",
   "execution_count": null,
   "id": "b640acda",
   "metadata": {},
   "outputs": [],
   "source": []
  }
 ],
 "metadata": {
  "kernelspec": {
   "display_name": "Python 3 (ipykernel)",
   "language": "python",
   "name": "python3"
  },
  "language_info": {
   "codemirror_mode": {
    "name": "ipython",
    "version": 3
   },
   "file_extension": ".py",
   "mimetype": "text/x-python",
   "name": "python",
   "nbconvert_exporter": "python",
   "pygments_lexer": "ipython3",
   "version": "3.10.9"
  }
 },
 "nbformat": 4,
 "nbformat_minor": 5
}
